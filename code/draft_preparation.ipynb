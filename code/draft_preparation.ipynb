{
 "cells": [
  {
   "cell_type": "code",
   "execution_count": 1,
   "metadata": {},
   "outputs": [],
   "source": [
    "import math\n",
    "import numpy as np\n",
    "import pandas as pd\n",
    "import matplotlib.pyplot as plt\n",
    "import seaborn as sns\n",
    "import pygeohash as pgh\n",
    "from scipy import stats"
   ]
  },
  {
   "cell_type": "code",
   "execution_count": 2,
   "metadata": {},
   "outputs": [],
   "source": [
    "sns.set()"
   ]
  },
  {
   "cell_type": "code",
   "execution_count": 3,
   "metadata": {
    "scrolled": true
   },
   "outputs": [],
   "source": [
    "df_geotab = pd.read_csv('../data/SearchingForParking_Toronto.csv')"
   ]
  },
  {
   "cell_type": "code",
   "execution_count": 4,
   "metadata": {},
   "outputs": [],
   "source": [
    "df_geotab = df_geotab.rename({'Geohash': 'geohash'}, axis=1)"
   ]
  },
  {
   "cell_type": "code",
   "execution_count": 6,
   "metadata": {},
   "outputs": [],
   "source": [
    "df_plf = pd.read_csv('parking_lot_facilities_cleaned.csv')"
   ]
  },
  {
   "cell_type": "markdown",
   "metadata": {},
   "source": [
    "##### Merging with 6-character Geohash"
   ]
  },
  {
   "cell_type": "code",
   "execution_count": 114,
   "metadata": {},
   "outputs": [],
   "source": [
    "df_geotab['geohash_6'] = df_geotab['geohash'].apply(lambda x: x[:6])"
   ]
  },
  {
   "cell_type": "code",
   "execution_count": 115,
   "metadata": {},
   "outputs": [],
   "source": [
    "df_plf['geohash_6'] = df_plf['geohash'].apply(lambda x: x[:6])"
   ]
  },
  {
   "cell_type": "code",
   "execution_count": 116,
   "metadata": {
    "scrolled": true
   },
   "outputs": [],
   "source": [
    "df_geotab_6 = df_geotab.groupby('geohash_6')['AvgTimeToPark'].agg('mean').reset_index()"
   ]
  },
  {
   "cell_type": "code",
   "execution_count": 117,
   "metadata": {
    "scrolled": true
   },
   "outputs": [
    {
     "data": {
      "text/html": [
       "<div>\n",
       "<style scoped>\n",
       "    .dataframe tbody tr th:only-of-type {\n",
       "        vertical-align: middle;\n",
       "    }\n",
       "\n",
       "    .dataframe tbody tr th {\n",
       "        vertical-align: top;\n",
       "    }\n",
       "\n",
       "    .dataframe thead th {\n",
       "        text-align: right;\n",
       "    }\n",
       "</style>\n",
       "<table border=\"1\" class=\"dataframe\">\n",
       "  <thead>\n",
       "    <tr style=\"text-align: right;\">\n",
       "      <th></th>\n",
       "      <th>geohash_6</th>\n",
       "      <th>AvgTimeToPark</th>\n",
       "    </tr>\n",
       "  </thead>\n",
       "  <tbody>\n",
       "    <tr>\n",
       "      <th>0</th>\n",
       "      <td>dpxrvz</td>\n",
       "      <td>4.180000</td>\n",
       "    </tr>\n",
       "    <tr>\n",
       "      <th>1</th>\n",
       "      <td>dpxryp</td>\n",
       "      <td>3.232300</td>\n",
       "    </tr>\n",
       "    <tr>\n",
       "      <th>2</th>\n",
       "      <td>dpz2gg</td>\n",
       "      <td>3.064500</td>\n",
       "    </tr>\n",
       "    <tr>\n",
       "      <th>3</th>\n",
       "      <td>dpz2jc</td>\n",
       "      <td>5.400200</td>\n",
       "    </tr>\n",
       "    <tr>\n",
       "      <th>4</th>\n",
       "      <td>dpz2jd</td>\n",
       "      <td>4.731814</td>\n",
       "    </tr>\n",
       "    <tr>\n",
       "      <th>5</th>\n",
       "      <td>dpz2je</td>\n",
       "      <td>4.495593</td>\n",
       "    </tr>\n",
       "    <tr>\n",
       "      <th>6</th>\n",
       "      <td>dpz2jf</td>\n",
       "      <td>4.861350</td>\n",
       "    </tr>\n",
       "    <tr>\n",
       "      <th>7</th>\n",
       "      <td>dpz2jg</td>\n",
       "      <td>5.190767</td>\n",
       "    </tr>\n",
       "    <tr>\n",
       "      <th>8</th>\n",
       "      <td>dpz2jk</td>\n",
       "      <td>6.847300</td>\n",
       "    </tr>\n",
       "    <tr>\n",
       "      <th>9</th>\n",
       "      <td>dpz2jn</td>\n",
       "      <td>2.776075</td>\n",
       "    </tr>\n",
       "    <tr>\n",
       "      <th>10</th>\n",
       "      <td>dpz2jp</td>\n",
       "      <td>4.085700</td>\n",
       "    </tr>\n",
       "    <tr>\n",
       "      <th>11</th>\n",
       "      <td>dpz2js</td>\n",
       "      <td>5.521364</td>\n",
       "    </tr>\n",
       "    <tr>\n",
       "      <th>12</th>\n",
       "      <td>dpz2jt</td>\n",
       "      <td>5.751480</td>\n",
       "    </tr>\n",
       "    <tr>\n",
       "      <th>13</th>\n",
       "      <td>dpz2ju</td>\n",
       "      <td>5.034192</td>\n",
       "    </tr>\n",
       "    <tr>\n",
       "      <th>14</th>\n",
       "      <td>dpz2jv</td>\n",
       "      <td>5.033475</td>\n",
       "    </tr>\n",
       "    <tr>\n",
       "      <th>15</th>\n",
       "      <td>dpz2jw</td>\n",
       "      <td>3.255433</td>\n",
       "    </tr>\n",
       "    <tr>\n",
       "      <th>16</th>\n",
       "      <td>dpz2jx</td>\n",
       "      <td>4.994925</td>\n",
       "    </tr>\n",
       "    <tr>\n",
       "      <th>17</th>\n",
       "      <td>dpz2jy</td>\n",
       "      <td>4.892150</td>\n",
       "    </tr>\n",
       "    <tr>\n",
       "      <th>18</th>\n",
       "      <td>dpz2jz</td>\n",
       "      <td>2.602450</td>\n",
       "    </tr>\n",
       "    <tr>\n",
       "      <th>19</th>\n",
       "      <td>dpz2k9</td>\n",
       "      <td>3.643900</td>\n",
       "    </tr>\n",
       "    <tr>\n",
       "      <th>20</th>\n",
       "      <td>dpz2kd</td>\n",
       "      <td>3.565650</td>\n",
       "    </tr>\n",
       "    <tr>\n",
       "      <th>21</th>\n",
       "      <td>dpz2ky</td>\n",
       "      <td>4.525000</td>\n",
       "    </tr>\n",
       "    <tr>\n",
       "      <th>22</th>\n",
       "      <td>dpz2kz</td>\n",
       "      <td>4.168662</td>\n",
       "    </tr>\n",
       "    <tr>\n",
       "      <th>23</th>\n",
       "      <td>dpz2m0</td>\n",
       "      <td>4.164150</td>\n",
       "    </tr>\n",
       "    <tr>\n",
       "      <th>24</th>\n",
       "      <td>dpz2m2</td>\n",
       "      <td>4.868250</td>\n",
       "    </tr>\n",
       "    <tr>\n",
       "      <th>25</th>\n",
       "      <td>dpz2m3</td>\n",
       "      <td>4.173920</td>\n",
       "    </tr>\n",
       "    <tr>\n",
       "      <th>26</th>\n",
       "      <td>dpz2m4</td>\n",
       "      <td>4.664600</td>\n",
       "    </tr>\n",
       "    <tr>\n",
       "      <th>27</th>\n",
       "      <td>dpz2m6</td>\n",
       "      <td>4.793760</td>\n",
       "    </tr>\n",
       "    <tr>\n",
       "      <th>28</th>\n",
       "      <td>dpz2m7</td>\n",
       "      <td>4.643467</td>\n",
       "    </tr>\n",
       "    <tr>\n",
       "      <th>29</th>\n",
       "      <td>dpz2m8</td>\n",
       "      <td>5.431650</td>\n",
       "    </tr>\n",
       "    <tr>\n",
       "      <th>...</th>\n",
       "      <td>...</td>\n",
       "      <td>...</td>\n",
       "    </tr>\n",
       "    <tr>\n",
       "      <th>768</th>\n",
       "      <td>dpz9jw</td>\n",
       "      <td>4.933300</td>\n",
       "    </tr>\n",
       "    <tr>\n",
       "      <th>769</th>\n",
       "      <td>dpz9jy</td>\n",
       "      <td>3.907100</td>\n",
       "    </tr>\n",
       "    <tr>\n",
       "      <th>770</th>\n",
       "      <td>dpz9jz</td>\n",
       "      <td>2.226700</td>\n",
       "    </tr>\n",
       "    <tr>\n",
       "      <th>771</th>\n",
       "      <td>dpz9k1</td>\n",
       "      <td>3.053850</td>\n",
       "    </tr>\n",
       "    <tr>\n",
       "      <th>772</th>\n",
       "      <td>dpz9k3</td>\n",
       "      <td>3.943300</td>\n",
       "    </tr>\n",
       "    <tr>\n",
       "      <th>773</th>\n",
       "      <td>dpz9k4</td>\n",
       "      <td>5.100000</td>\n",
       "    </tr>\n",
       "    <tr>\n",
       "      <th>774</th>\n",
       "      <td>dpz9k5</td>\n",
       "      <td>6.036700</td>\n",
       "    </tr>\n",
       "    <tr>\n",
       "      <th>775</th>\n",
       "      <td>dpz9k6</td>\n",
       "      <td>4.000500</td>\n",
       "    </tr>\n",
       "    <tr>\n",
       "      <th>776</th>\n",
       "      <td>dpz9k7</td>\n",
       "      <td>5.049833</td>\n",
       "    </tr>\n",
       "    <tr>\n",
       "      <th>777</th>\n",
       "      <td>dpz9k8</td>\n",
       "      <td>5.352800</td>\n",
       "    </tr>\n",
       "    <tr>\n",
       "      <th>778</th>\n",
       "      <td>dpz9k9</td>\n",
       "      <td>5.234089</td>\n",
       "    </tr>\n",
       "    <tr>\n",
       "      <th>779</th>\n",
       "      <td>dpz9kb</td>\n",
       "      <td>5.089300</td>\n",
       "    </tr>\n",
       "    <tr>\n",
       "      <th>780</th>\n",
       "      <td>dpz9kc</td>\n",
       "      <td>4.086867</td>\n",
       "    </tr>\n",
       "    <tr>\n",
       "      <th>781</th>\n",
       "      <td>dpz9kd</td>\n",
       "      <td>5.332920</td>\n",
       "    </tr>\n",
       "    <tr>\n",
       "      <th>782</th>\n",
       "      <td>dpz9ke</td>\n",
       "      <td>3.889967</td>\n",
       "    </tr>\n",
       "    <tr>\n",
       "      <th>783</th>\n",
       "      <td>dpz9kf</td>\n",
       "      <td>4.892550</td>\n",
       "    </tr>\n",
       "    <tr>\n",
       "      <th>784</th>\n",
       "      <td>dpz9ks</td>\n",
       "      <td>4.352800</td>\n",
       "    </tr>\n",
       "    <tr>\n",
       "      <th>785</th>\n",
       "      <td>dpz9m0</td>\n",
       "      <td>3.835000</td>\n",
       "    </tr>\n",
       "    <tr>\n",
       "      <th>786</th>\n",
       "      <td>dpz9m8</td>\n",
       "      <td>2.961100</td>\n",
       "    </tr>\n",
       "    <tr>\n",
       "      <th>787</th>\n",
       "      <td>dpz9n0</td>\n",
       "      <td>4.339400</td>\n",
       "    </tr>\n",
       "    <tr>\n",
       "      <th>788</th>\n",
       "      <td>dpz9n3</td>\n",
       "      <td>2.539200</td>\n",
       "    </tr>\n",
       "    <tr>\n",
       "      <th>789</th>\n",
       "      <td>dpz9n4</td>\n",
       "      <td>6.673300</td>\n",
       "    </tr>\n",
       "    <tr>\n",
       "      <th>790</th>\n",
       "      <td>dpz9n5</td>\n",
       "      <td>4.904850</td>\n",
       "    </tr>\n",
       "    <tr>\n",
       "      <th>791</th>\n",
       "      <td>dpz9n6</td>\n",
       "      <td>3.724650</td>\n",
       "    </tr>\n",
       "    <tr>\n",
       "      <th>792</th>\n",
       "      <td>dpz9nc</td>\n",
       "      <td>3.843300</td>\n",
       "    </tr>\n",
       "    <tr>\n",
       "      <th>793</th>\n",
       "      <td>dpz9nv</td>\n",
       "      <td>4.645300</td>\n",
       "    </tr>\n",
       "    <tr>\n",
       "      <th>794</th>\n",
       "      <td>dpz9p1</td>\n",
       "      <td>4.389900</td>\n",
       "    </tr>\n",
       "    <tr>\n",
       "      <th>795</th>\n",
       "      <td>dpz9p4</td>\n",
       "      <td>3.773300</td>\n",
       "    </tr>\n",
       "    <tr>\n",
       "      <th>796</th>\n",
       "      <td>dpz9p5</td>\n",
       "      <td>3.583900</td>\n",
       "    </tr>\n",
       "    <tr>\n",
       "      <th>797</th>\n",
       "      <td>dpz9pj</td>\n",
       "      <td>4.705200</td>\n",
       "    </tr>\n",
       "  </tbody>\n",
       "</table>\n",
       "<p>798 rows × 2 columns</p>\n",
       "</div>"
      ],
      "text/plain": [
       "    geohash_6  AvgTimeToPark\n",
       "0      dpxrvz       4.180000\n",
       "1      dpxryp       3.232300\n",
       "2      dpz2gg       3.064500\n",
       "3      dpz2jc       5.400200\n",
       "4      dpz2jd       4.731814\n",
       "5      dpz2je       4.495593\n",
       "6      dpz2jf       4.861350\n",
       "7      dpz2jg       5.190767\n",
       "8      dpz2jk       6.847300\n",
       "9      dpz2jn       2.776075\n",
       "10     dpz2jp       4.085700\n",
       "11     dpz2js       5.521364\n",
       "12     dpz2jt       5.751480\n",
       "13     dpz2ju       5.034192\n",
       "14     dpz2jv       5.033475\n",
       "15     dpz2jw       3.255433\n",
       "16     dpz2jx       4.994925\n",
       "17     dpz2jy       4.892150\n",
       "18     dpz2jz       2.602450\n",
       "19     dpz2k9       3.643900\n",
       "20     dpz2kd       3.565650\n",
       "21     dpz2ky       4.525000\n",
       "22     dpz2kz       4.168662\n",
       "23     dpz2m0       4.164150\n",
       "24     dpz2m2       4.868250\n",
       "25     dpz2m3       4.173920\n",
       "26     dpz2m4       4.664600\n",
       "27     dpz2m6       4.793760\n",
       "28     dpz2m7       4.643467\n",
       "29     dpz2m8       5.431650\n",
       "..        ...            ...\n",
       "768    dpz9jw       4.933300\n",
       "769    dpz9jy       3.907100\n",
       "770    dpz9jz       2.226700\n",
       "771    dpz9k1       3.053850\n",
       "772    dpz9k3       3.943300\n",
       "773    dpz9k4       5.100000\n",
       "774    dpz9k5       6.036700\n",
       "775    dpz9k6       4.000500\n",
       "776    dpz9k7       5.049833\n",
       "777    dpz9k8       5.352800\n",
       "778    dpz9k9       5.234089\n",
       "779    dpz9kb       5.089300\n",
       "780    dpz9kc       4.086867\n",
       "781    dpz9kd       5.332920\n",
       "782    dpz9ke       3.889967\n",
       "783    dpz9kf       4.892550\n",
       "784    dpz9ks       4.352800\n",
       "785    dpz9m0       3.835000\n",
       "786    dpz9m8       2.961100\n",
       "787    dpz9n0       4.339400\n",
       "788    dpz9n3       2.539200\n",
       "789    dpz9n4       6.673300\n",
       "790    dpz9n5       4.904850\n",
       "791    dpz9n6       3.724650\n",
       "792    dpz9nc       3.843300\n",
       "793    dpz9nv       4.645300\n",
       "794    dpz9p1       4.389900\n",
       "795    dpz9p4       3.773300\n",
       "796    dpz9p5       3.583900\n",
       "797    dpz9pj       4.705200\n",
       "\n",
       "[798 rows x 2 columns]"
      ]
     },
     "execution_count": 117,
     "metadata": {},
     "output_type": "execute_result"
    }
   ],
   "source": [
    "df_geotab_6"
   ]
  },
  {
   "cell_type": "code",
   "execution_count": 118,
   "metadata": {},
   "outputs": [],
   "source": [
    "df_plf_6 = df_plf.groupby('geohash_6')['parking_spots'].agg('sum').reset_index()"
   ]
  },
  {
   "cell_type": "code",
   "execution_count": 119,
   "metadata": {
    "scrolled": true
   },
   "outputs": [],
   "source": [
    "df_merged_6 = pd.merge(df_geotab_6, df_plf_6, on=['geohash_6'])"
   ]
  },
  {
   "cell_type": "code",
   "execution_count": 120,
   "metadata": {},
   "outputs": [
    {
     "data": {
      "text/plain": [
       "(156, 3)"
      ]
     },
     "execution_count": 120,
     "metadata": {},
     "output_type": "execute_result"
    }
   ],
   "source": [
    "df_merged_6.shape"
   ]
  },
  {
   "cell_type": "code",
   "execution_count": 77,
   "metadata": {},
   "outputs": [],
   "source": [
    "df_merged_6_small = df_merged_6[df_merged_6.parking_spots < 25]"
   ]
  },
  {
   "cell_type": "code",
   "execution_count": 78,
   "metadata": {},
   "outputs": [],
   "source": [
    "ps = df_merged_6['parking_spots']"
   ]
  },
  {
   "cell_type": "code",
   "execution_count": 79,
   "metadata": {},
   "outputs": [
    {
     "name": "stdout",
     "output_type": "stream",
     "text": [
      "0.0 101.17307692307692 68.5 557.0\n"
     ]
    }
   ],
   "source": [
    "print(np.min(ps), np.mean(ps), np.median(ps), np.max(ps))"
   ]
  },
  {
   "cell_type": "code",
   "execution_count": 101,
   "metadata": {},
   "outputs": [],
   "source": [
    "bins = [0, 10, 20, 30, 40, 50, 60, 70, 80, 90, 100, 200, 300]"
   ]
  },
  {
   "cell_type": "code",
   "execution_count": 102,
   "metadata": {},
   "outputs": [],
   "source": [
    "labels = [0, 10, 20, 30, 40, 50, 60, 70, 80, 90, 100, 200]"
   ]
  },
  {
   "cell_type": "code",
   "execution_count": 103,
   "metadata": {},
   "outputs": [],
   "source": [
    "df_merged_6['binned'] = pd.cut(df_merged_6['parking_spots'], bins=bins, labels=labels)"
   ]
  },
  {
   "cell_type": "code",
   "execution_count": 104,
   "metadata": {},
   "outputs": [],
   "source": [
    "df_binned = df_merged_6.groupby('binned')['AvgTimeToPark'].agg('mean').reset_index()"
   ]
  },
  {
   "cell_type": "code",
   "execution_count": 105,
   "metadata": {},
   "outputs": [
    {
     "data": {
      "text/plain": [
       "<seaborn.axisgrid.FacetGrid at 0x7fe6725939e8>"
      ]
     },
     "execution_count": 105,
     "metadata": {},
     "output_type": "execute_result"
    },
    {
     "data": {
      "image/png": "[encoded data removed]",
      "text/plain": [
       "<Figure size 360x360 with 1 Axes>"
      ]
     },
     "metadata": {},
     "output_type": "display_data"
    }
   ],
   "source": [
    "sns.lmplot(x='binned', y='AvgTimeToPark', data=df_binned)"
   ]
  },
  {
   "cell_type": "code",
   "execution_count": 50,
   "metadata": {},
   "outputs": [
    {
     "data": {
      "text/plain": [
       "LinregressResult(slope=-0.24446300973538246, intercept=31.169311827314097, rvalue=-0.748681853866662, pvalue=0.012720975928486904, stderr=0.07653113939917884)"
      ]
     },
     "execution_count": 50,
     "metadata": {},
     "output_type": "execute_result"
    }
   ],
   "source": [
    "stats.linregress(df_binned['binned'], df_binned['AvgTimeToPark'])"
   ]
  },
  {
   "cell_type": "code",
   "execution_count": 44,
   "metadata": {
    "scrolled": true
   },
   "outputs": [
    {
     "data": {
      "text/plain": [
       "<seaborn.axisgrid.FacetGrid at 0x7fe6729c4c88>"
      ]
     },
     "execution_count": 44,
     "metadata": {},
     "output_type": "execute_result"
    },
    {
     "data": {
      "image/png": "[encoded data removed]",
      "text/plain": [
       "<Figure size 360x360 with 1 Axes>"
      ]
     },
     "metadata": {},
     "output_type": "display_data"
    }
   ],
   "source": [
    "sns.lmplot(x='binned', y='AvgTimeToPark', data=df_merged_6)"
   ]
  },
  {
   "cell_type": "code",
   "execution_count": 17,
   "metadata": {},
   "outputs": [],
   "source": [
    "df_merged_6['parking_spots_ln'] = df_merged_6['parking_spots'].apply(lambda x: math.log(max(x, 1)))"
   ]
  },
  {
   "cell_type": "code",
   "execution_count": 10,
   "metadata": {},
   "outputs": [
    {
     "data": {
      "text/plain": [
       "LinregressResult(slope=-0.002555056022344729, intercept=5.2255772982461774, rvalue=-0.18701907819383354, pvalue=0.4169350515824565, stderr=0.003078979100875691)"
      ]
     },
     "execution_count": 10,
     "metadata": {},
     "output_type": "execute_result"
    }
   ],
   "source": [
    "stats.linregress(df_merged['parking_spots'], df_merged['AvgTimeToPark'])"
   ]
  },
  {
   "cell_type": "markdown",
   "metadata": {},
   "source": [
    "In this case, we can decide to remove the point at the rightmost part of the graph (seems like a outlier, having a very high number of parking spots)."
   ]
  },
  {
   "cell_type": "markdown",
   "metadata": {},
   "source": [
    "##### Merging with 7 character Geohash"
   ]
  },
  {
   "cell_type": "code",
   "execution_count": 7,
   "metadata": {
    "scrolled": true
   },
   "outputs": [],
   "source": [
    "df_merged = pd.merge(df_geotab, df_plf, on=['geohash'])"
   ]
  },
  {
   "cell_type": "code",
   "execution_count": 8,
   "metadata": {
    "scrolled": true
   },
   "outputs": [
    {
     "data": {
      "text/plain": [
       "0      33.0\n",
       "1     175.0\n",
       "2      29.0\n",
       "3     162.0\n",
       "4       0.0\n",
       "5       0.0\n",
       "6      91.0\n",
       "7      36.0\n",
       "8       0.0\n",
       "9     147.0\n",
       "10     53.0\n",
       "11    420.0\n",
       "12     67.0\n",
       "13     33.0\n",
       "14    227.0\n",
       "15     47.0\n",
       "16     45.0\n",
       "17    104.0\n",
       "18    125.0\n",
       "19     79.0\n",
       "20    238.0\n",
       "Name: parking_spots, dtype: float64"
      ]
     },
     "execution_count": 8,
     "metadata": {},
     "output_type": "execute_result"
    }
   ],
   "source": [
    "df_merged['parking_spots']"
   ]
  },
  {
   "cell_type": "code",
   "execution_count": 9,
   "metadata": {},
   "outputs": [
    {
     "data": {
      "text/plain": [
       "<seaborn.axisgrid.FacetGrid at 0x7efbe29b7e10>"
      ]
     },
     "execution_count": 9,
     "metadata": {},
     "output_type": "execute_result"
    },
    {
     "data": {
      "image/png": "[encoded data removed]",
      "text/plain": [
       "<Figure size 360x360 with 1 Axes>"
      ]
     },
     "metadata": {},
     "output_type": "display_data"
    }
   ],
   "source": [
    "sns.lmplot(x='parking_spots', y='AvgTimeToPark', data=df_merged)"
   ]
  },
  {
   "cell_type": "code",
   "execution_count": 10,
   "metadata": {},
   "outputs": [
    {
     "data": {
      "text/plain": [
       "LinregressResult(slope=-0.002555056022344729, intercept=5.2255772982461774, rvalue=-0.18701907819383354, pvalue=0.4169350515824565, stderr=0.003078979100875691)"
      ]
     },
     "execution_count": 10,
     "metadata": {},
     "output_type": "execute_result"
    }
   ],
   "source": [
    "stats.linregress(df_merged['parking_spots'], df_merged['AvgTimeToPark'])"
   ]
  },
  {
   "cell_type": "markdown",
   "metadata": {},
   "source": [
    "In this case, we can decide to remove the point at the rightmost part of the graph (seems like a outlier, having a very high number of parking spots)."
   ]
  },
  {
   "cell_type": "code",
   "execution_count": 11,
   "metadata": {
    "scrolled": true
   },
   "outputs": [
    {
     "data": {
      "text/plain": [
       "<seaborn.axisgrid.FacetGrid at 0x7efbe29688d0>"
      ]
     },
     "execution_count": 11,
     "metadata": {},
     "output_type": "execute_result"
    },
    {
     "data": {
      "image/png": "[encoded data removed]",
      "text/plain": [
       "<Figure size 360x360 with 1 Axes>"
      ]
     },
     "metadata": {},
     "output_type": "display_data"
    }
   ],
   "source": [
    "df_merged2 = df_merged[~df_merged.index.isin([11])]\n",
    "sns.lmplot(x='parking_spots', y='AvgTimeToPark', data=df_merged2)"
   ]
  },
  {
   "cell_type": "code",
   "execution_count": 12,
   "metadata": {},
   "outputs": [
    {
     "data": {
      "text/plain": [
       "LinregressResult(slope=-0.002387964307803153, intercept=5.213952382224757, rvalue=-0.12284495290362585, pvalue=0.6058778031731202, stderr=0.004547077323085025)"
      ]
     },
     "execution_count": 12,
     "metadata": {},
     "output_type": "execute_result"
    }
   ],
   "source": [
    "stats.linregress(df_merged2['parking_spots'], df_merged2['AvgTimeToPark'])"
   ]
  },
  {
   "cell_type": "markdown",
   "metadata": {},
   "source": [
    "In both cases, we can see that the results are not significant enough to conclude that more parking spots do not lead to a lower average parking time.\n",
    "We also looked at what happens when aggregating at a 6-character level."
   ]
  },
  {
   "cell_type": "code",
   "execution_count": null,
   "metadata": {},
   "outputs": [],
   "source": []
  },
  {
   "cell_type": "code",
   "execution_count": 2,
   "metadata": {},
   "outputs": [],
   "source": [
    "df = pd.read_csv('../data/MERGED_TO_PARKINGTICKETS_TRAFFICVOL_GEOHASH_X_HOURLY.csv')"
   ]
  },
  {
   "cell_type": "code",
   "execution_count": 3,
   "metadata": {},
   "outputs": [
    {
     "data": {
      "text/html": [
       "<div>\n",
       "<style scoped>\n",
       "    .dataframe tbody tr th:only-of-type {\n",
       "        vertical-align: middle;\n",
       "    }\n",
       "\n",
       "    .dataframe tbody tr th {\n",
       "        vertical-align: top;\n",
       "    }\n",
       "\n",
       "    .dataframe thead th {\n",
       "        text-align: right;\n",
       "    }\n",
       "</style>\n",
       "<table border=\"1\" class=\"dataframe\">\n",
       "  <thead>\n",
       "    <tr style=\"text-align: right;\">\n",
       "      <th></th>\n",
       "      <th>Unnamed: 0</th>\n",
       "      <th>time_stamp</th>\n",
       "      <th>infraction_description</th>\n",
       "      <th>addr</th>\n",
       "      <th>lat</th>\n",
       "      <th>lng</th>\n",
       "      <th>tag_number_masked</th>\n",
       "      <th>set_fine_amount</th>\n",
       "      <th>geo_hash</th>\n",
       "      <th>record_date</th>\n",
       "      <th>8hr_Vehicle_Vol</th>\n",
       "      <th>8hr_Pedestrian_Vol</th>\n",
       "    </tr>\n",
       "  </thead>\n",
       "  <tbody>\n",
       "    <tr>\n",
       "      <th>0</th>\n",
       "      <td>0</td>\n",
       "      <td>20170101:00</td>\n",
       "      <td>PARK COMMERC LOAD ZONE NOT LDG</td>\n",
       "      <td>ST PATRICK ST</td>\n",
       "      <td>43.655975</td>\n",
       "      <td>-79.390937</td>\n",
       "      <td>4.0</td>\n",
       "      <td>160.0</td>\n",
       "      <td>dpz837m</td>\n",
       "      <td>2017-01-01</td>\n",
       "      <td>NaN</td>\n",
       "      <td>NaN</td>\n",
       "    </tr>\n",
       "    <tr>\n",
       "      <th>1</th>\n",
       "      <td>1</td>\n",
       "      <td>20170101:00</td>\n",
       "      <td>PARK ONSTRT ACCESSIBLE NO PRMT</td>\n",
       "      <td>ST PATRICK ST</td>\n",
       "      <td>43.655975</td>\n",
       "      <td>-79.390937</td>\n",
       "      <td>1.0</td>\n",
       "      <td>450.0</td>\n",
       "      <td>dpz837m</td>\n",
       "      <td>2017-01-01</td>\n",
       "      <td>NaN</td>\n",
       "      <td>NaN</td>\n",
       "    </tr>\n",
       "    <tr>\n",
       "      <th>2</th>\n",
       "      <td>2</td>\n",
       "      <td>20170101:00</td>\n",
       "      <td>PARK-SIGNED HWY-PROHIBIT DY/TM</td>\n",
       "      <td>ST PATRICK ST</td>\n",
       "      <td>43.655975</td>\n",
       "      <td>-79.390937</td>\n",
       "      <td>3.0</td>\n",
       "      <td>150.0</td>\n",
       "      <td>dpz837m</td>\n",
       "      <td>2017-01-01</td>\n",
       "      <td>NaN</td>\n",
       "      <td>NaN</td>\n",
       "    </tr>\n",
       "    <tr>\n",
       "      <th>3</th>\n",
       "      <td>3</td>\n",
       "      <td>20170101:04</td>\n",
       "      <td>PARK ON PRIVATE PROPERTY</td>\n",
       "      <td>ST PATRICK ST</td>\n",
       "      <td>43.655975</td>\n",
       "      <td>-79.390937</td>\n",
       "      <td>2.0</td>\n",
       "      <td>60.0</td>\n",
       "      <td>dpz837m</td>\n",
       "      <td>2017-01-01</td>\n",
       "      <td>NaN</td>\n",
       "      <td>NaN</td>\n",
       "    </tr>\n",
       "    <tr>\n",
       "      <th>4</th>\n",
       "      <td>4</td>\n",
       "      <td>20170101:00</td>\n",
       "      <td>PARK ON PRIVATE PROPERTY</td>\n",
       "      <td>BATHURST ST</td>\n",
       "      <td>43.673291</td>\n",
       "      <td>-79.414390</td>\n",
       "      <td>4.0</td>\n",
       "      <td>120.0</td>\n",
       "      <td>dpz82yk</td>\n",
       "      <td>2017-01-01</td>\n",
       "      <td>NaN</td>\n",
       "      <td>NaN</td>\n",
       "    </tr>\n",
       "  </tbody>\n",
       "</table>\n",
       "</div>"
      ],
      "text/plain": [
       "   Unnamed: 0   time_stamp          infraction_description           addr  \\\n",
       "0           0  20170101:00  PARK COMMERC LOAD ZONE NOT LDG  ST PATRICK ST   \n",
       "1           1  20170101:00  PARK ONSTRT ACCESSIBLE NO PRMT  ST PATRICK ST   \n",
       "2           2  20170101:00  PARK-SIGNED HWY-PROHIBIT DY/TM  ST PATRICK ST   \n",
       "3           3  20170101:04        PARK ON PRIVATE PROPERTY  ST PATRICK ST   \n",
       "4           4  20170101:00        PARK ON PRIVATE PROPERTY    BATHURST ST   \n",
       "\n",
       "         lat        lng  tag_number_masked  set_fine_amount geo_hash  \\\n",
       "0  43.655975 -79.390937                4.0            160.0  dpz837m   \n",
       "1  43.655975 -79.390937                1.0            450.0  dpz837m   \n",
       "2  43.655975 -79.390937                3.0            150.0  dpz837m   \n",
       "3  43.655975 -79.390937                2.0             60.0  dpz837m   \n",
       "4  43.673291 -79.414390                4.0            120.0  dpz82yk   \n",
       "\n",
       "  record_date  8hr_Vehicle_Vol  8hr_Pedestrian_Vol  \n",
       "0  2017-01-01              NaN                 NaN  \n",
       "1  2017-01-01              NaN                 NaN  \n",
       "2  2017-01-01              NaN                 NaN  \n",
       "3  2017-01-01              NaN                 NaN  \n",
       "4  2017-01-01              NaN                 NaN  "
      ]
     },
     "execution_count": 3,
     "metadata": {},
     "output_type": "execute_result"
    }
   ],
   "source": [
    "df.head(5)"
   ]
  },
  {
   "cell_type": "code",
   "execution_count": 12,
   "metadata": {},
   "outputs": [],
   "source": [
    "x = df_merged['parking_spots']\n",
    "y = df_merged['AvgTimeToPark']"
   ]
  },
  {
   "cell_type": "code",
   "execution_count": 33,
   "metadata": {
    "scrolled": true
   },
   "outputs": [],
   "source": [
    "x = x.apply(lambda x: max(x, 0.1))"
   ]
  },
  {
   "cell_type": "code",
   "execution_count": 48,
   "metadata": {
    "scrolled": true
   },
   "outputs": [],
   "source": [
    "z = np.poly1d(np.polyfit(np.log(x), y, 3))"
   ]
  },
  {
   "cell_type": "code",
   "execution_count": 47,
   "metadata": {},
   "outputs": [
    {
     "data": {
      "image/png": "[encoded data removed]",
      "text/plain": [
       "<Figure size 432x288 with 1 Axes>"
      ]
     },
     "metadata": {
      "needs_background": "light"
     },
     "output_type": "display_data"
    }
   ],
   "source": [
    "xp = np.linspace(-5, 500, 100)\n",
    "_ = plt.plot(x, y, '.', xp, z(xp), '--')\n",
    "plt.ylim(0,9)\n",
    "plt.show()"
   ]
  },
  {
   "cell_type": "code",
   "execution_count": null,
   "metadata": {},
   "outputs": [],
   "source": []
  },
  {
   "cell_type": "code",
   "execution_count": 52,
   "metadata": {
    "scrolled": true
   },
   "outputs": [],
   "source": [
    "z1 = np.poly1d(np.polyfit(x, y, 4))"
   ]
  },
  {
   "cell_type": "code",
   "execution_count": 53,
   "metadata": {},
   "outputs": [
    {
     "data": {
      "image/png": "[encoded data removed]",
      "text/plain": [
       "<Figure size 432x288 with 1 Axes>"
      ]
     },
     "metadata": {
      "needs_background": "light"
     },
     "output_type": "display_data"
    }
   ],
   "source": [
    "xp = np.linspace(-5, 500, 100)\n",
    "_ = plt.plot(x, y, '.', xp, z1(xp), '--')\n",
    "plt.ylim(0,9)\n",
    "plt.show()"
   ]
  },
  {
   "cell_type": "code",
   "execution_count": 54,
   "metadata": {},
   "outputs": [],
   "source": [
    "from scipy import stats"
   ]
  },
  {
   "cell_type": "code",
   "execution_count": 55,
   "metadata": {},
   "outputs": [],
   "source": [
    "slope, intercept, r_value, p_value, std_err = stats.linregress(x,y)"
   ]
  },
  {
   "cell_type": "code",
   "execution_count": 56,
   "metadata": {},
   "outputs": [
    {
     "data": {
      "text/plain": [
       "LinregressResult(slope=-0.0025549495201270997, intercept=5.225603091516398, rvalue=-0.1869841332156103, pvalue=0.4170236831266376, stderr=0.0030794470110268885)"
      ]
     },
     "execution_count": 56,
     "metadata": {},
     "output_type": "execute_result"
    }
   ],
   "source": [
    "stats.linregress(x,y)"
   ]
  },
  {
   "cell_type": "code",
   "execution_count": null,
   "metadata": {},
   "outputs": [],
   "source": []
  },
  {
   "cell_type": "markdown",
   "metadata": {},
   "source": [
    "## Geotab hourly distribution"
   ]
  },
  {
   "cell_type": "code",
   "execution_count": 5,
   "metadata": {
    "scrolled": true
   },
   "outputs": [],
   "source": [
    "df_geotab = df_geotab[['geohash', 'SearchingByHour']]"
   ]
  },
  {
   "cell_type": "code",
   "execution_count": 6,
   "metadata": {},
   "outputs": [],
   "source": [
    "from ast import literal_eval"
   ]
  },
  {
   "cell_type": "code",
   "execution_count": 7,
   "metadata": {
    "scrolled": true
   },
   "outputs": [],
   "source": [
    "df_geotab['SearchingByHour'] = df_geotab['SearchingByHour'].apply(lambda s: s.replace(\"null\", \"0\"))"
   ]
  },
  {
   "cell_type": "code",
   "execution_count": 8,
   "metadata": {},
   "outputs": [],
   "source": [
    "df_geotab['SearchingByHour'] = df_geotab['SearchingByHour'].apply(literal_eval)"
   ]
  },
  {
   "cell_type": "code",
   "execution_count": 9,
   "metadata": {
    "scrolled": true
   },
   "outputs": [
    {
     "data": {
      "text/plain": [
       "{'00': 0,\n",
       " '01': 0,\n",
       " '02': 0,\n",
       " '03': 0,\n",
       " '04': 0.5,\n",
       " '05': 0.5,\n",
       " '06': 0,\n",
       " '07': 0.25,\n",
       " '08': 0.1429,\n",
       " '09': 0.2083,\n",
       " '10': 0.1765,\n",
       " '11': 0.5455,\n",
       " '12': 0.402,\n",
       " '13': 0.4,\n",
       " '14': 0.5,\n",
       " '15': 0.1667,\n",
       " '16': 0.5,\n",
       " '17': 0.0741,\n",
       " '18': 0,\n",
       " '19': 0,\n",
       " '20': 0,\n",
       " '21': 0,\n",
       " '22': 0,\n",
       " '23': 0}"
      ]
     },
     "execution_count": 9,
     "metadata": {},
     "output_type": "execute_result"
    }
   ],
   "source": [
    "df_geotab['SearchingByHour'].iloc[0]"
   ]
  },
  {
   "cell_type": "code",
   "execution_count": 10,
   "metadata": {},
   "outputs": [],
   "source": [
    "df_geotab['SearchingByHour'] = df_geotab['SearchingByHour'].apply(lambda x: {int(k): v for k,v in x.items()})"
   ]
  },
  {
   "cell_type": "code",
   "execution_count": 11,
   "metadata": {
    "scrolled": true
   },
   "outputs": [
    {
     "data": {
      "text/html": [
       "<div>\n",
       "<style scoped>\n",
       "    .dataframe tbody tr th:only-of-type {\n",
       "        vertical-align: middle;\n",
       "    }\n",
       "\n",
       "    .dataframe tbody tr th {\n",
       "        vertical-align: top;\n",
       "    }\n",
       "\n",
       "    .dataframe thead th {\n",
       "        text-align: right;\n",
       "    }\n",
       "</style>\n",
       "<table border=\"1\" class=\"dataframe\">\n",
       "  <thead>\n",
       "    <tr style=\"text-align: right;\">\n",
       "      <th></th>\n",
       "      <th>geohash</th>\n",
       "      <th>SearchingByHour</th>\n",
       "    </tr>\n",
       "  </thead>\n",
       "  <tbody>\n",
       "    <tr>\n",
       "      <th>0</th>\n",
       "      <td>dpz2nth</td>\n",
       "      <td>{0: 0, 1: 0, 2: 0, 3: 0, 4: 0.5, 5: 0.5, 6: 0,...</td>\n",
       "    </tr>\n",
       "    <tr>\n",
       "      <th>1</th>\n",
       "      <td>dpz2pnp</td>\n",
       "      <td>{0: 0, 1: 0, 2: 0, 3: 0, 4: 0, 5: 0.4444, 6: 0...</td>\n",
       "    </tr>\n",
       "    <tr>\n",
       "      <th>2</th>\n",
       "      <td>dpz9k90</td>\n",
       "      <td>{0: 0, 1: 0, 2: 0, 3: 0, 4: 0, 5: 0, 6: 0, 7: ...</td>\n",
       "    </tr>\n",
       "    <tr>\n",
       "      <th>3</th>\n",
       "      <td>dpz95wt</td>\n",
       "      <td>{0: 0.3333, 1: 0, 2: 0.1667, 3: 0.25, 4: 0.25,...</td>\n",
       "    </tr>\n",
       "    <tr>\n",
       "      <th>4</th>\n",
       "      <td>dpz2jsn</td>\n",
       "      <td>{0: 0.4, 1: 0, 2: 0, 3: 0, 4: 0, 5: 0, 6: 0, 7...</td>\n",
       "    </tr>\n",
       "    <tr>\n",
       "      <th>5</th>\n",
       "      <td>dpz2nmb</td>\n",
       "      <td>{0: 0, 1: 0, 2: 0, 3: 0, 4: 0, 5: 0, 6: 0, 7: ...</td>\n",
       "    </tr>\n",
       "    <tr>\n",
       "      <th>6</th>\n",
       "      <td>dpz2nhk</td>\n",
       "      <td>{0: 0, 1: 0, 2: 0, 3: 0, 4: 0, 5: 0, 6: 0, 7: ...</td>\n",
       "    </tr>\n",
       "    <tr>\n",
       "      <th>7</th>\n",
       "      <td>dpz2nj3</td>\n",
       "      <td>{0: 0, 1: 0.037, 2: 0, 3: 0, 4: 0.0439, 5: 0.0...</td>\n",
       "    </tr>\n",
       "    <tr>\n",
       "      <th>8</th>\n",
       "      <td>dpz2nf9</td>\n",
       "      <td>{0: 0, 1: 0, 2: 0, 3: 0, 4: 0.0909, 5: 0.0588,...</td>\n",
       "    </tr>\n",
       "    <tr>\n",
       "      <th>9</th>\n",
       "      <td>dpz9jyk</td>\n",
       "      <td>{0: 0, 1: 0, 2: 0.0286, 3: 0.0645, 4: 0, 5: 0....</td>\n",
       "    </tr>\n",
       "    <tr>\n",
       "      <th>10</th>\n",
       "      <td>dpz2twt</td>\n",
       "      <td>{0: 0, 1: 0, 2: 0, 3: 0.5, 4: 0, 5: 0, 6: 0, 7...</td>\n",
       "    </tr>\n",
       "    <tr>\n",
       "      <th>11</th>\n",
       "      <td>dpz2sw9</td>\n",
       "      <td>{0: 0.1667, 1: 0, 2: 0, 3: 0, 4: 0, 5: 0, 6: 0...</td>\n",
       "    </tr>\n",
       "    <tr>\n",
       "      <th>12</th>\n",
       "      <td>dpz2jte</td>\n",
       "      <td>{0: 0, 1: 0, 2: 1, 3: 0, 4: 0, 5: 0.25, 6: 0.1...</td>\n",
       "    </tr>\n",
       "    <tr>\n",
       "      <th>13</th>\n",
       "      <td>dpz2zu3</td>\n",
       "      <td>{0: 0.3333, 1: 0.05, 2: 0.0476, 3: 0.1379, 4: ...</td>\n",
       "    </tr>\n",
       "    <tr>\n",
       "      <th>14</th>\n",
       "      <td>dpz2jet</td>\n",
       "      <td>{0: 0, 1: 0, 2: 0, 3: 0, 4: 0, 5: 1, 6: 0.25, ...</td>\n",
       "    </tr>\n",
       "    <tr>\n",
       "      <th>15</th>\n",
       "      <td>dpz9huj</td>\n",
       "      <td>{0: 0.2222, 1: 0, 2: 0.3333, 3: 0, 4: 0, 5: 0,...</td>\n",
       "    </tr>\n",
       "    <tr>\n",
       "      <th>16</th>\n",
       "      <td>dpz88ns</td>\n",
       "      <td>{0: 0, 1: 0, 2: 0, 3: 0, 4: 0, 5: 0.5, 6: 0.14...</td>\n",
       "    </tr>\n",
       "    <tr>\n",
       "      <th>17</th>\n",
       "      <td>dpz9jdk</td>\n",
       "      <td>{0: 0.25, 1: 0, 2: 0, 3: 0, 4: 0, 5: 0, 6: 0, ...</td>\n",
       "    </tr>\n",
       "    <tr>\n",
       "      <th>18</th>\n",
       "      <td>dpz2tqd</td>\n",
       "      <td>{0: 0, 1: 0, 2: 0, 3: 0, 4: 0, 5: 0.1111, 6: 0...</td>\n",
       "    </tr>\n",
       "    <tr>\n",
       "      <th>19</th>\n",
       "      <td>dpxrypb</td>\n",
       "      <td>{0: 0, 1: 0, 2: 0, 3: 0, 4: 0, 5: 0, 6: 0, 7: ...</td>\n",
       "    </tr>\n",
       "    <tr>\n",
       "      <th>20</th>\n",
       "      <td>dpz9hpp</td>\n",
       "      <td>{0: 0, 1: 0.5, 2: 1, 3: 0, 4: 0.5, 5: 1, 6: 1,...</td>\n",
       "    </tr>\n",
       "    <tr>\n",
       "      <th>21</th>\n",
       "      <td>dpz90su</td>\n",
       "      <td>{0: 0, 1: 0, 2: 0, 3: 0, 4: 0, 5: 0, 6: 0, 7: ...</td>\n",
       "    </tr>\n",
       "    <tr>\n",
       "      <th>22</th>\n",
       "      <td>dpz2nfd</td>\n",
       "      <td>{0: 0, 1: 0, 2: 0, 3: 0, 4: 0.1111, 5: 0.0215,...</td>\n",
       "    </tr>\n",
       "    <tr>\n",
       "      <th>23</th>\n",
       "      <td>dpz2jsj</td>\n",
       "      <td>{0: 0, 1: 0, 2: 0, 3: 0, 4: 0, 5: 0, 6: 0, 7: ...</td>\n",
       "    </tr>\n",
       "    <tr>\n",
       "      <th>24</th>\n",
       "      <td>dpz2pm6</td>\n",
       "      <td>{0: 0, 1: 0, 2: 0, 3: 0, 4: 0, 5: 0, 6: 0.25, ...</td>\n",
       "    </tr>\n",
       "    <tr>\n",
       "      <th>25</th>\n",
       "      <td>dpz9p5e</td>\n",
       "      <td>{0: 0, 1: 0, 2: 0, 3: 0, 4: 0, 5: 0, 6: 0, 7: ...</td>\n",
       "    </tr>\n",
       "    <tr>\n",
       "      <th>26</th>\n",
       "      <td>dpz2wxn</td>\n",
       "      <td>{0: 1, 1: 0, 2: 0.3333, 3: 0.6667, 4: 0, 5: 0,...</td>\n",
       "    </tr>\n",
       "    <tr>\n",
       "      <th>27</th>\n",
       "      <td>dpz2jyb</td>\n",
       "      <td>{0: 0.5, 1: 0.5, 2: 0, 3: 0, 4: 0, 5: 0.3333, ...</td>\n",
       "    </tr>\n",
       "    <tr>\n",
       "      <th>28</th>\n",
       "      <td>dpz2nnr</td>\n",
       "      <td>{0: 0.2, 1: 0, 2: 0, 3: 0, 4: 0, 5: 0.1979, 6:...</td>\n",
       "    </tr>\n",
       "    <tr>\n",
       "      <th>29</th>\n",
       "      <td>dpz2jsy</td>\n",
       "      <td>{0: 0, 1: 0, 2: 0, 3: 0, 4: 0, 5: 0, 6: 0, 7: ...</td>\n",
       "    </tr>\n",
       "    <tr>\n",
       "      <th>...</th>\n",
       "      <td>...</td>\n",
       "      <td>...</td>\n",
       "    </tr>\n",
       "    <tr>\n",
       "      <th>3701</th>\n",
       "      <td>dpz83tu</td>\n",
       "      <td>{0: 0, 1: 0, 2: 0.25, 3: 0, 4: 0, 5: 0, 6: 0, ...</td>\n",
       "    </tr>\n",
       "    <tr>\n",
       "      <th>3702</th>\n",
       "      <td>dpz83my</td>\n",
       "      <td>{0: 0, 1: 0, 2: 0.2857, 3: 0, 4: 0, 5: 0, 6: 0...</td>\n",
       "    </tr>\n",
       "    <tr>\n",
       "      <th>3703</th>\n",
       "      <td>dpz83tb</td>\n",
       "      <td>{0: 0, 1: 0.2, 2: 0.25, 3: 0, 4: 0, 5: 0.0909,...</td>\n",
       "    </tr>\n",
       "    <tr>\n",
       "      <th>3704</th>\n",
       "      <td>dpz83mg</td>\n",
       "      <td>{0: 0, 1: 0, 2: 0, 3: 0, 4: 0, 5: 0.0833, 6: 0...</td>\n",
       "    </tr>\n",
       "    <tr>\n",
       "      <th>3705</th>\n",
       "      <td>dpz83tg</td>\n",
       "      <td>{0: 0, 1: 0, 2: 0, 3: 0.0909, 4: 0, 5: 0, 6: 0...</td>\n",
       "    </tr>\n",
       "    <tr>\n",
       "      <th>3706</th>\n",
       "      <td>dpz2xxg</td>\n",
       "      <td>{0: 0, 1: 0, 2: 0, 3: 0, 4: 0, 5: 0, 6: 0, 7: ...</td>\n",
       "    </tr>\n",
       "    <tr>\n",
       "      <th>3707</th>\n",
       "      <td>dpz2xrc</td>\n",
       "      <td>{0: 0, 1: 0, 2: 0, 3: 0, 4: 0, 5: 0, 6: 0.0588...</td>\n",
       "    </tr>\n",
       "    <tr>\n",
       "      <th>3708</th>\n",
       "      <td>dpz2wxz</td>\n",
       "      <td>{0: 0, 1: 0, 2: 0, 3: 0, 4: 0, 5: 0, 6: 1, 7: ...</td>\n",
       "    </tr>\n",
       "    <tr>\n",
       "      <th>3709</th>\n",
       "      <td>dpz2xrf</td>\n",
       "      <td>{0: 0, 1: 0, 2: 0, 3: 0, 4: 0, 5: 0, 6: 0, 7: ...</td>\n",
       "    </tr>\n",
       "    <tr>\n",
       "      <th>3710</th>\n",
       "      <td>dpz2wzg</td>\n",
       "      <td>{0: 0, 1: 0, 2: 0, 3: 0, 4: 0, 5: 0, 6: 0, 7: ...</td>\n",
       "    </tr>\n",
       "    <tr>\n",
       "      <th>3711</th>\n",
       "      <td>dpz2trc</td>\n",
       "      <td>{0: 0, 1: 0, 2: 0, 3: 0, 4: 0, 5: 0, 6: 0, 7: ...</td>\n",
       "    </tr>\n",
       "    <tr>\n",
       "      <th>3712</th>\n",
       "      <td>dpz89pu</td>\n",
       "      <td>{0: 0, 1: 0, 2: 0, 3: 0, 4: 0, 5: 1, 6: 0, 7: ...</td>\n",
       "    </tr>\n",
       "    <tr>\n",
       "      <th>3713</th>\n",
       "      <td>dpz8exf</td>\n",
       "      <td>{0: 0, 1: 0, 2: 0, 3: 0, 4: 0, 5: 0, 6: 0, 7: ...</td>\n",
       "    </tr>\n",
       "    <tr>\n",
       "      <th>3714</th>\n",
       "      <td>dpz8exv</td>\n",
       "      <td>{0: 0, 1: 0, 2: 0, 3: 0, 4: 0, 5: 0, 6: 0, 7: ...</td>\n",
       "    </tr>\n",
       "    <tr>\n",
       "      <th>3715</th>\n",
       "      <td>dpz8epf</td>\n",
       "      <td>{0: 0, 1: 0, 2: 0, 3: 0, 4: 0, 5: 0, 6: 0, 7: ...</td>\n",
       "    </tr>\n",
       "    <tr>\n",
       "      <th>3716</th>\n",
       "      <td>dpz8exb</td>\n",
       "      <td>{0: 0, 1: 0, 2: 0, 3: 0, 4: 0, 5: 0, 6: 0, 7: ...</td>\n",
       "    </tr>\n",
       "    <tr>\n",
       "      <th>3717</th>\n",
       "      <td>dpz88pg</td>\n",
       "      <td>{0: 0, 1: 0, 2: 0, 3: 0, 4: 0, 5: 0, 6: 0, 7: ...</td>\n",
       "    </tr>\n",
       "    <tr>\n",
       "      <th>3718</th>\n",
       "      <td>dpz2xrb</td>\n",
       "      <td>{0: 0, 1: 0, 2: 0, 3: 0, 4: 0, 5: 0, 6: 0, 7: ...</td>\n",
       "    </tr>\n",
       "    <tr>\n",
       "      <th>3719</th>\n",
       "      <td>dpz2xpz</td>\n",
       "      <td>{0: 0, 1: 0, 2: 0, 3: 0, 4: 0, 5: 0, 6: 0, 7: ...</td>\n",
       "    </tr>\n",
       "    <tr>\n",
       "      <th>3720</th>\n",
       "      <td>dpz8dzu</td>\n",
       "      <td>{0: 0, 1: 0, 2: 0, 3: 0, 4: 0, 5: 0, 6: 0, 7: ...</td>\n",
       "    </tr>\n",
       "    <tr>\n",
       "      <th>3721</th>\n",
       "      <td>dpz2wzb</td>\n",
       "      <td>{0: 0, 1: 0, 2: 0, 3: 0, 4: 0, 5: 0, 6: 0, 7: ...</td>\n",
       "    </tr>\n",
       "    <tr>\n",
       "      <th>3722</th>\n",
       "      <td>dpz8ezb</td>\n",
       "      <td>{0: 0, 1: 0, 2: 0, 3: 0, 4: 0, 5: 0, 6: 0, 7: ...</td>\n",
       "    </tr>\n",
       "    <tr>\n",
       "      <th>3723</th>\n",
       "      <td>dpz8exz</td>\n",
       "      <td>{0: 0, 1: 0, 2: 0, 3: 0, 4: 0, 5: 0, 6: 0, 7: ...</td>\n",
       "    </tr>\n",
       "    <tr>\n",
       "      <th>3724</th>\n",
       "      <td>dpz2xxu</td>\n",
       "      <td>{0: 0, 1: 1, 2: 0, 3: 0, 4: 0, 5: 0, 6: 0, 7: ...</td>\n",
       "    </tr>\n",
       "    <tr>\n",
       "      <th>3725</th>\n",
       "      <td>dpz2wxv</td>\n",
       "      <td>{0: 0, 1: 0, 2: 0, 3: 0, 4: 0, 5: 0, 6: 0, 7: ...</td>\n",
       "    </tr>\n",
       "    <tr>\n",
       "      <th>3726</th>\n",
       "      <td>dpz2xru</td>\n",
       "      <td>{0: 0, 1: 0.5, 2: 0.25, 3: 0.3333, 4: 0, 5: 0....</td>\n",
       "    </tr>\n",
       "    <tr>\n",
       "      <th>3727</th>\n",
       "      <td>dpz88pf</td>\n",
       "      <td>{0: 0, 1: 0, 2: 0, 3: 0, 4: 0, 5: 0, 6: 0, 7: ...</td>\n",
       "    </tr>\n",
       "    <tr>\n",
       "      <th>3728</th>\n",
       "      <td>dpz2wxy</td>\n",
       "      <td>{0: 0, 1: 0, 2: 0, 3: 0, 4: 0, 5: 0, 6: 0, 7: ...</td>\n",
       "    </tr>\n",
       "    <tr>\n",
       "      <th>3729</th>\n",
       "      <td>dpz2tzb</td>\n",
       "      <td>{0: 0, 1: 0, 2: 1, 3: 0, 4: 0, 5: 0, 6: 0, 7: ...</td>\n",
       "    </tr>\n",
       "    <tr>\n",
       "      <th>3730</th>\n",
       "      <td>dpz2xxb</td>\n",
       "      <td>{0: 0, 1: 0, 2: 0, 3: 0, 4: 0, 5: 0, 6: 0, 7: ...</td>\n",
       "    </tr>\n",
       "  </tbody>\n",
       "</table>\n",
       "<p>3731 rows × 2 columns</p>\n",
       "</div>"
      ],
      "text/plain": [
       "      geohash                                    SearchingByHour\n",
       "0     dpz2nth  {0: 0, 1: 0, 2: 0, 3: 0, 4: 0.5, 5: 0.5, 6: 0,...\n",
       "1     dpz2pnp  {0: 0, 1: 0, 2: 0, 3: 0, 4: 0, 5: 0.4444, 6: 0...\n",
       "2     dpz9k90  {0: 0, 1: 0, 2: 0, 3: 0, 4: 0, 5: 0, 6: 0, 7: ...\n",
       "3     dpz95wt  {0: 0.3333, 1: 0, 2: 0.1667, 3: 0.25, 4: 0.25,...\n",
       "4     dpz2jsn  {0: 0.4, 1: 0, 2: 0, 3: 0, 4: 0, 5: 0, 6: 0, 7...\n",
       "5     dpz2nmb  {0: 0, 1: 0, 2: 0, 3: 0, 4: 0, 5: 0, 6: 0, 7: ...\n",
       "6     dpz2nhk  {0: 0, 1: 0, 2: 0, 3: 0, 4: 0, 5: 0, 6: 0, 7: ...\n",
       "7     dpz2nj3  {0: 0, 1: 0.037, 2: 0, 3: 0, 4: 0.0439, 5: 0.0...\n",
       "8     dpz2nf9  {0: 0, 1: 0, 2: 0, 3: 0, 4: 0.0909, 5: 0.0588,...\n",
       "9     dpz9jyk  {0: 0, 1: 0, 2: 0.0286, 3: 0.0645, 4: 0, 5: 0....\n",
       "10    dpz2twt  {0: 0, 1: 0, 2: 0, 3: 0.5, 4: 0, 5: 0, 6: 0, 7...\n",
       "11    dpz2sw9  {0: 0.1667, 1: 0, 2: 0, 3: 0, 4: 0, 5: 0, 6: 0...\n",
       "12    dpz2jte  {0: 0, 1: 0, 2: 1, 3: 0, 4: 0, 5: 0.25, 6: 0.1...\n",
       "13    dpz2zu3  {0: 0.3333, 1: 0.05, 2: 0.0476, 3: 0.1379, 4: ...\n",
       "14    dpz2jet  {0: 0, 1: 0, 2: 0, 3: 0, 4: 0, 5: 1, 6: 0.25, ...\n",
       "15    dpz9huj  {0: 0.2222, 1: 0, 2: 0.3333, 3: 0, 4: 0, 5: 0,...\n",
       "16    dpz88ns  {0: 0, 1: 0, 2: 0, 3: 0, 4: 0, 5: 0.5, 6: 0.14...\n",
       "17    dpz9jdk  {0: 0.25, 1: 0, 2: 0, 3: 0, 4: 0, 5: 0, 6: 0, ...\n",
       "18    dpz2tqd  {0: 0, 1: 0, 2: 0, 3: 0, 4: 0, 5: 0.1111, 6: 0...\n",
       "19    dpxrypb  {0: 0, 1: 0, 2: 0, 3: 0, 4: 0, 5: 0, 6: 0, 7: ...\n",
       "20    dpz9hpp  {0: 0, 1: 0.5, 2: 1, 3: 0, 4: 0.5, 5: 1, 6: 1,...\n",
       "21    dpz90su  {0: 0, 1: 0, 2: 0, 3: 0, 4: 0, 5: 0, 6: 0, 7: ...\n",
       "22    dpz2nfd  {0: 0, 1: 0, 2: 0, 3: 0, 4: 0.1111, 5: 0.0215,...\n",
       "23    dpz2jsj  {0: 0, 1: 0, 2: 0, 3: 0, 4: 0, 5: 0, 6: 0, 7: ...\n",
       "24    dpz2pm6  {0: 0, 1: 0, 2: 0, 3: 0, 4: 0, 5: 0, 6: 0.25, ...\n",
       "25    dpz9p5e  {0: 0, 1: 0, 2: 0, 3: 0, 4: 0, 5: 0, 6: 0, 7: ...\n",
       "26    dpz2wxn  {0: 1, 1: 0, 2: 0.3333, 3: 0.6667, 4: 0, 5: 0,...\n",
       "27    dpz2jyb  {0: 0.5, 1: 0.5, 2: 0, 3: 0, 4: 0, 5: 0.3333, ...\n",
       "28    dpz2nnr  {0: 0.2, 1: 0, 2: 0, 3: 0, 4: 0, 5: 0.1979, 6:...\n",
       "29    dpz2jsy  {0: 0, 1: 0, 2: 0, 3: 0, 4: 0, 5: 0, 6: 0, 7: ...\n",
       "...       ...                                                ...\n",
       "3701  dpz83tu  {0: 0, 1: 0, 2: 0.25, 3: 0, 4: 0, 5: 0, 6: 0, ...\n",
       "3702  dpz83my  {0: 0, 1: 0, 2: 0.2857, 3: 0, 4: 0, 5: 0, 6: 0...\n",
       "3703  dpz83tb  {0: 0, 1: 0.2, 2: 0.25, 3: 0, 4: 0, 5: 0.0909,...\n",
       "3704  dpz83mg  {0: 0, 1: 0, 2: 0, 3: 0, 4: 0, 5: 0.0833, 6: 0...\n",
       "3705  dpz83tg  {0: 0, 1: 0, 2: 0, 3: 0.0909, 4: 0, 5: 0, 6: 0...\n",
       "3706  dpz2xxg  {0: 0, 1: 0, 2: 0, 3: 0, 4: 0, 5: 0, 6: 0, 7: ...\n",
       "3707  dpz2xrc  {0: 0, 1: 0, 2: 0, 3: 0, 4: 0, 5: 0, 6: 0.0588...\n",
       "3708  dpz2wxz  {0: 0, 1: 0, 2: 0, 3: 0, 4: 0, 5: 0, 6: 1, 7: ...\n",
       "3709  dpz2xrf  {0: 0, 1: 0, 2: 0, 3: 0, 4: 0, 5: 0, 6: 0, 7: ...\n",
       "3710  dpz2wzg  {0: 0, 1: 0, 2: 0, 3: 0, 4: 0, 5: 0, 6: 0, 7: ...\n",
       "3711  dpz2trc  {0: 0, 1: 0, 2: 0, 3: 0, 4: 0, 5: 0, 6: 0, 7: ...\n",
       "3712  dpz89pu  {0: 0, 1: 0, 2: 0, 3: 0, 4: 0, 5: 1, 6: 0, 7: ...\n",
       "3713  dpz8exf  {0: 0, 1: 0, 2: 0, 3: 0, 4: 0, 5: 0, 6: 0, 7: ...\n",
       "3714  dpz8exv  {0: 0, 1: 0, 2: 0, 3: 0, 4: 0, 5: 0, 6: 0, 7: ...\n",
       "3715  dpz8epf  {0: 0, 1: 0, 2: 0, 3: 0, 4: 0, 5: 0, 6: 0, 7: ...\n",
       "3716  dpz8exb  {0: 0, 1: 0, 2: 0, 3: 0, 4: 0, 5: 0, 6: 0, 7: ...\n",
       "3717  dpz88pg  {0: 0, 1: 0, 2: 0, 3: 0, 4: 0, 5: 0, 6: 0, 7: ...\n",
       "3718  dpz2xrb  {0: 0, 1: 0, 2: 0, 3: 0, 4: 0, 5: 0, 6: 0, 7: ...\n",
       "3719  dpz2xpz  {0: 0, 1: 0, 2: 0, 3: 0, 4: 0, 5: 0, 6: 0, 7: ...\n",
       "3720  dpz8dzu  {0: 0, 1: 0, 2: 0, 3: 0, 4: 0, 5: 0, 6: 0, 7: ...\n",
       "3721  dpz2wzb  {0: 0, 1: 0, 2: 0, 3: 0, 4: 0, 5: 0, 6: 0, 7: ...\n",
       "3722  dpz8ezb  {0: 0, 1: 0, 2: 0, 3: 0, 4: 0, 5: 0, 6: 0, 7: ...\n",
       "3723  dpz8exz  {0: 0, 1: 0, 2: 0, 3: 0, 4: 0, 5: 0, 6: 0, 7: ...\n",
       "3724  dpz2xxu  {0: 0, 1: 1, 2: 0, 3: 0, 4: 0, 5: 0, 6: 0, 7: ...\n",
       "3725  dpz2wxv  {0: 0, 1: 0, 2: 0, 3: 0, 4: 0, 5: 0, 6: 0, 7: ...\n",
       "3726  dpz2xru  {0: 0, 1: 0.5, 2: 0.25, 3: 0.3333, 4: 0, 5: 0....\n",
       "3727  dpz88pf  {0: 0, 1: 0, 2: 0, 3: 0, 4: 0, 5: 0, 6: 0, 7: ...\n",
       "3728  dpz2wxy  {0: 0, 1: 0, 2: 0, 3: 0, 4: 0, 5: 0, 6: 0, 7: ...\n",
       "3729  dpz2tzb  {0: 0, 1: 0, 2: 1, 3: 0, 4: 0, 5: 0, 6: 0, 7: ...\n",
       "3730  dpz2xxb  {0: 0, 1: 0, 2: 0, 3: 0, 4: 0, 5: 0, 6: 0, 7: ...\n",
       "\n",
       "[3731 rows x 2 columns]"
      ]
     },
     "execution_count": 11,
     "metadata": {},
     "output_type": "execute_result"
    }
   ],
   "source": [
    "df_geotab"
   ]
  },
  {
   "cell_type": "code",
   "execution_count": 43,
   "metadata": {},
   "outputs": [],
   "source": [
    "import pickle"
   ]
  },
  {
   "cell_type": "code",
   "execution_count": 12,
   "metadata": {},
   "outputs": [],
   "source": [
    "df_geotab.to_csv(\"hourlydistribution.csv\")"
   ]
  },
  {
   "cell_type": "code",
   "execution_count": 100,
   "metadata": {
    "scrolled": true
   },
   "outputs": [],
   "source": [
    "hourly_agg = df_geotab.groupby('geohash_6')['HourlyDistribution'].apply(list).reset_index()"
   ]
  },
  {
   "cell_type": "code",
   "execution_count": 101,
   "metadata": {},
   "outputs": [],
   "source": [
    "def merge_dict(l):\n",
    "    keys = l[0].keys()\n",
    "    output_dict = dict()\n",
    "    for k in keys:\n",
    "        output_dict[k] = sum([d[k] for d in l])\n",
    "    return output_dict"
   ]
  },
  {
   "cell_type": "code",
   "execution_count": 102,
   "metadata": {},
   "outputs": [],
   "source": [
    "hourly_agg['HourlyDistribution'] = hourly_agg['HourlyDistribution'].apply(merge_dict)"
   ]
  },
  {
   "cell_type": "code",
   "execution_count": 103,
   "metadata": {
    "scrolled": true
   },
   "outputs": [
    {
     "data": {
      "text/html": [
       "<div>\n",
       "<style scoped>\n",
       "    .dataframe tbody tr th:only-of-type {\n",
       "        vertical-align: middle;\n",
       "    }\n",
       "\n",
       "    .dataframe tbody tr th {\n",
       "        vertical-align: top;\n",
       "    }\n",
       "\n",
       "    .dataframe thead th {\n",
       "        text-align: right;\n",
       "    }\n",
       "</style>\n",
       "<table border=\"1\" class=\"dataframe\">\n",
       "  <thead>\n",
       "    <tr style=\"text-align: right;\">\n",
       "      <th></th>\n",
       "      <th>geohash_6</th>\n",
       "      <th>HourlyDistribution</th>\n",
       "    </tr>\n",
       "  </thead>\n",
       "  <tbody>\n",
       "    <tr>\n",
       "      <th>0</th>\n",
       "      <td>dpxrvz</td>\n",
       "      <td>{'12': 0.3333, '10': 0.3512, '22': 0, '04': 0,...</td>\n",
       "    </tr>\n",
       "    <tr>\n",
       "      <th>1</th>\n",
       "      <td>dpxryp</td>\n",
       "      <td>{'12': 0.0805, '10': 0.0805, '22': 0.0805, '04...</td>\n",
       "    </tr>\n",
       "    <tr>\n",
       "      <th>2</th>\n",
       "      <td>dpz2gg</td>\n",
       "      <td>{'12': 0.0909, '10': 0.0909, '22': 0, '04': 0,...</td>\n",
       "    </tr>\n",
       "    <tr>\n",
       "      <th>3</th>\n",
       "      <td>dpz2jc</td>\n",
       "      <td>{'12': 0.0909, '10': 0.0909, '22': 0, '04': 0....</td>\n",
       "    </tr>\n",
       "    <tr>\n",
       "      <th>4</th>\n",
       "      <td>dpz2jd</td>\n",
       "      <td>{'12': 0.4838, '10': 0.4159, '22': 0.2679, '04...</td>\n",
       "    </tr>\n",
       "    <tr>\n",
       "      <th>5</th>\n",
       "      <td>dpz2je</td>\n",
       "      <td>{'12': 1.3873, '10': 1.0798999999999999, '22':...</td>\n",
       "    </tr>\n",
       "    <tr>\n",
       "      <th>6</th>\n",
       "      <td>dpz2jf</td>\n",
       "      <td>{'12': 0.1111, '10': 0.2778, '22': 0, '04': 0,...</td>\n",
       "    </tr>\n",
       "    <tr>\n",
       "      <th>7</th>\n",
       "      <td>dpz2jg</td>\n",
       "      <td>{'12': 0.5832999999999999, '10': 0.3333, '22':...</td>\n",
       "    </tr>\n",
       "    <tr>\n",
       "      <th>8</th>\n",
       "      <td>dpz2jk</td>\n",
       "      <td>{'12': 0, '10': 0.1429, '22': 0, '04': 0, '08'...</td>\n",
       "    </tr>\n",
       "    <tr>\n",
       "      <th>9</th>\n",
       "      <td>dpz2jn</td>\n",
       "      <td>{'12': 0.1381, '10': 0.3881, '22': 0.0667, '04...</td>\n",
       "    </tr>\n",
       "    <tr>\n",
       "      <th>10</th>\n",
       "      <td>dpz2jp</td>\n",
       "      <td>{'12': 0, '10': 0.1667, '22': 0, '04': 0, '08'...</td>\n",
       "    </tr>\n",
       "    <tr>\n",
       "      <th>11</th>\n",
       "      <td>dpz2js</td>\n",
       "      <td>{'12': 1.0315999999999999, '10': 0.97699999999...</td>\n",
       "    </tr>\n",
       "    <tr>\n",
       "      <th>12</th>\n",
       "      <td>dpz2jt</td>\n",
       "      <td>{'12': 0.0675, '10': 0.4901, '22': 0.0578, '04...</td>\n",
       "    </tr>\n",
       "    <tr>\n",
       "      <th>13</th>\n",
       "      <td>dpz2ju</td>\n",
       "      <td>{'12': 1.0529000000000002, '10': 0.89579999999...</td>\n",
       "    </tr>\n",
       "    <tr>\n",
       "      <th>14</th>\n",
       "      <td>dpz2jv</td>\n",
       "      <td>{'12': 0.1429, '10': 0.2, '22': 0, '04': 0, '0...</td>\n",
       "    </tr>\n",
       "    <tr>\n",
       "      <th>15</th>\n",
       "      <td>dpz2jw</td>\n",
       "      <td>{'12': 0.42419999999999997, '10': 0.0909, '22'...</td>\n",
       "    </tr>\n",
       "    <tr>\n",
       "      <th>16</th>\n",
       "      <td>dpz2jx</td>\n",
       "      <td>{'12': 0.5096, '10': 0.3096, '22': 0, '04': 0,...</td>\n",
       "    </tr>\n",
       "    <tr>\n",
       "      <th>17</th>\n",
       "      <td>dpz2jy</td>\n",
       "      <td>{'12': 0.6087999999999999, '10': 0.53189999999...</td>\n",
       "    </tr>\n",
       "    <tr>\n",
       "      <th>18</th>\n",
       "      <td>dpz2jz</td>\n",
       "      <td>{'12': 0.125, '10': 0.125, '22': 0, '04': 0, '...</td>\n",
       "    </tr>\n",
       "    <tr>\n",
       "      <th>19</th>\n",
       "      <td>dpz2k9</td>\n",
       "      <td>{'12': 0.0833, '10': 0.0833, '22': 0, '04': 0,...</td>\n",
       "    </tr>\n",
       "    <tr>\n",
       "      <th>20</th>\n",
       "      <td>dpz2kd</td>\n",
       "      <td>{'12': 0.39780000000000004, '10': 0.3978000000...</td>\n",
       "    </tr>\n",
       "    <tr>\n",
       "      <th>21</th>\n",
       "      <td>dpz2ky</td>\n",
       "      <td>{'12': 0.2, '10': 0.2, '22': 0, '04': 0, '08':...</td>\n",
       "    </tr>\n",
       "    <tr>\n",
       "      <th>22</th>\n",
       "      <td>dpz2kz</td>\n",
       "      <td>{'12': 0.5408999999999999, '10': 0.6878, '22':...</td>\n",
       "    </tr>\n",
       "    <tr>\n",
       "      <th>23</th>\n",
       "      <td>dpz2m0</td>\n",
       "      <td>{'12': 0.0769, '10': 0.7269, '22': 0, '04': 0,...</td>\n",
       "    </tr>\n",
       "    <tr>\n",
       "      <th>24</th>\n",
       "      <td>dpz2m2</td>\n",
       "      <td>{'12': 0, '10': 0.3667, '22': 0, '04': 0, '08'...</td>\n",
       "    </tr>\n",
       "    <tr>\n",
       "      <th>25</th>\n",
       "      <td>dpz2m3</td>\n",
       "      <td>{'12': 0.4386, '10': 0.6386000000000001, '22':...</td>\n",
       "    </tr>\n",
       "    <tr>\n",
       "      <th>26</th>\n",
       "      <td>dpz2m4</td>\n",
       "      <td>{'12': 0, '10': 0.1429, '22': 0, '04': 0, '08'...</td>\n",
       "    </tr>\n",
       "    <tr>\n",
       "      <th>27</th>\n",
       "      <td>dpz2m6</td>\n",
       "      <td>{'12': 0.42069999999999996, '10': 0.1429, '22'...</td>\n",
       "    </tr>\n",
       "    <tr>\n",
       "      <th>28</th>\n",
       "      <td>dpz2m7</td>\n",
       "      <td>{'12': 0.48339999999999994, '10': 0.1667000000...</td>\n",
       "    </tr>\n",
       "    <tr>\n",
       "      <th>29</th>\n",
       "      <td>dpz2m8</td>\n",
       "      <td>{'12': 0, '10': 0, '22': 0, '04': 0, '08': 0.1...</td>\n",
       "    </tr>\n",
       "    <tr>\n",
       "      <th>...</th>\n",
       "      <td>...</td>\n",
       "      <td>...</td>\n",
       "    </tr>\n",
       "    <tr>\n",
       "      <th>768</th>\n",
       "      <td>dpz9jw</td>\n",
       "      <td>{'12': 0, '10': 0, '22': 0, '04': 0, '08': 0.3...</td>\n",
       "    </tr>\n",
       "    <tr>\n",
       "      <th>769</th>\n",
       "      <td>dpz9jy</td>\n",
       "      <td>{'12': 0.0587, '10': 0.066, '22': 0.0587, '04'...</td>\n",
       "    </tr>\n",
       "    <tr>\n",
       "      <th>770</th>\n",
       "      <td>dpz9jz</td>\n",
       "      <td>{'12': 0, '10': 0.2, '22': 0, '04': 0, '08': 0...</td>\n",
       "    </tr>\n",
       "    <tr>\n",
       "      <th>771</th>\n",
       "      <td>dpz9k1</td>\n",
       "      <td>{'12': 0.2576, '10': 0.0909, '22': 0, '04': 0,...</td>\n",
       "    </tr>\n",
       "    <tr>\n",
       "      <th>772</th>\n",
       "      <td>dpz9k3</td>\n",
       "      <td>{'12': 0, '10': 0, '22': 0, '04': 0, '08': 0.2...</td>\n",
       "    </tr>\n",
       "    <tr>\n",
       "      <th>773</th>\n",
       "      <td>dpz9k4</td>\n",
       "      <td>{'12': 0.1875, '10': 0.25, '22': 0, '04': 0, '...</td>\n",
       "    </tr>\n",
       "    <tr>\n",
       "      <th>774</th>\n",
       "      <td>dpz9k5</td>\n",
       "      <td>{'12': 0.5, '10': 0, '22': 0, '04': 0, '08': 0...</td>\n",
       "    </tr>\n",
       "    <tr>\n",
       "      <th>775</th>\n",
       "      <td>dpz9k6</td>\n",
       "      <td>{'12': 0, '10': 0.41669999999999996, '22': 0.1...</td>\n",
       "    </tr>\n",
       "    <tr>\n",
       "      <th>776</th>\n",
       "      <td>dpz9k7</td>\n",
       "      <td>{'12': 0.2, '10': 0, '22': 0, '04': 0, '08': 0...</td>\n",
       "    </tr>\n",
       "    <tr>\n",
       "      <th>777</th>\n",
       "      <td>dpz9k8</td>\n",
       "      <td>{'12': 0.2, '10': 0.4, '22': 0, '04': 0, '08':...</td>\n",
       "    </tr>\n",
       "    <tr>\n",
       "      <th>778</th>\n",
       "      <td>dpz9k9</td>\n",
       "      <td>{'12': 1.1484999999999999, '10': 0.80559999999...</td>\n",
       "    </tr>\n",
       "    <tr>\n",
       "      <th>779</th>\n",
       "      <td>dpz9kb</td>\n",
       "      <td>{'12': 0.2, '10': 0.6167, '22': 0, '04': 0, '0...</td>\n",
       "    </tr>\n",
       "    <tr>\n",
       "      <th>780</th>\n",
       "      <td>dpz9kc</td>\n",
       "      <td>{'12': 0.3096, '10': 0.3929, '22': 0, '04': 0,...</td>\n",
       "    </tr>\n",
       "    <tr>\n",
       "      <th>781</th>\n",
       "      <td>dpz9kd</td>\n",
       "      <td>{'12': 0.6222, '10': 0.4778, '22': 0.1667, '04...</td>\n",
       "    </tr>\n",
       "    <tr>\n",
       "      <th>782</th>\n",
       "      <td>dpz9ke</td>\n",
       "      <td>{'12': 0.4881, '10': 0.2381, '22': 0.0952, '04...</td>\n",
       "    </tr>\n",
       "    <tr>\n",
       "      <th>783</th>\n",
       "      <td>dpz9kf</td>\n",
       "      <td>{'12': 0.41669999999999996, '10': 0, '22': 0, ...</td>\n",
       "    </tr>\n",
       "    <tr>\n",
       "      <th>784</th>\n",
       "      <td>dpz9ks</td>\n",
       "      <td>{'12': 0.1667, '10': 0.1667, '22': 0, '04': 0,...</td>\n",
       "    </tr>\n",
       "    <tr>\n",
       "      <th>785</th>\n",
       "      <td>dpz9m0</td>\n",
       "      <td>{'12': 0, '10': 0.4583, '22': 0, '04': 0, '08'...</td>\n",
       "    </tr>\n",
       "    <tr>\n",
       "      <th>786</th>\n",
       "      <td>dpz9m8</td>\n",
       "      <td>{'12': 0, '10': 0.2, '22': 0, '04': 0, '08': 0...</td>\n",
       "    </tr>\n",
       "    <tr>\n",
       "      <th>787</th>\n",
       "      <td>dpz9n0</td>\n",
       "      <td>{'12': 0.1, '10': 0.5, '22': 0, '04': 0, '08':...</td>\n",
       "    </tr>\n",
       "    <tr>\n",
       "      <th>788</th>\n",
       "      <td>dpz9n3</td>\n",
       "      <td>{'12': 0.0769, '10': 0, '22': 0, '04': 0, '08'...</td>\n",
       "    </tr>\n",
       "    <tr>\n",
       "      <th>789</th>\n",
       "      <td>dpz9n4</td>\n",
       "      <td>{'12': 0.25, '10': 0, '22': 0, '04': 0, '08': ...</td>\n",
       "    </tr>\n",
       "    <tr>\n",
       "      <th>790</th>\n",
       "      <td>dpz9n5</td>\n",
       "      <td>{'12': 0.3333, '10': 0, '22': 0, '04': 0, '08'...</td>\n",
       "    </tr>\n",
       "    <tr>\n",
       "      <th>791</th>\n",
       "      <td>dpz9n6</td>\n",
       "      <td>{'12': 0, '10': 0, '22': 0, '04': 0, '08': 0.3...</td>\n",
       "    </tr>\n",
       "    <tr>\n",
       "      <th>792</th>\n",
       "      <td>dpz9nc</td>\n",
       "      <td>{'12': 0, '10': 0.1429, '22': 0, '04': 0, '08'...</td>\n",
       "    </tr>\n",
       "    <tr>\n",
       "      <th>793</th>\n",
       "      <td>dpz9nv</td>\n",
       "      <td>{'12': 0.637, '10': 0.2679, '22': 0, '04': 0, ...</td>\n",
       "    </tr>\n",
       "    <tr>\n",
       "      <th>794</th>\n",
       "      <td>dpz9p1</td>\n",
       "      <td>{'12': 0.2667, '10': 0.2667, '22': 0, '04': 0,...</td>\n",
       "    </tr>\n",
       "    <tr>\n",
       "      <th>795</th>\n",
       "      <td>dpz9p4</td>\n",
       "      <td>{'12': 0.2, '10': 0, '22': 0, '04': 0, '08': 0...</td>\n",
       "    </tr>\n",
       "    <tr>\n",
       "      <th>796</th>\n",
       "      <td>dpz9p5</td>\n",
       "      <td>{'12': 0.5095999999999999, '10': 0.3429, '22':...</td>\n",
       "    </tr>\n",
       "    <tr>\n",
       "      <th>797</th>\n",
       "      <td>dpz9pj</td>\n",
       "      <td>{'12': 0, '10': 0.5179, '22': 0, '04': 0, '08'...</td>\n",
       "    </tr>\n",
       "  </tbody>\n",
       "</table>\n",
       "<p>798 rows × 2 columns</p>\n",
       "</div>"
      ],
      "text/plain": [
       "    geohash_6                                 HourlyDistribution\n",
       "0      dpxrvz  {'12': 0.3333, '10': 0.3512, '22': 0, '04': 0,...\n",
       "1      dpxryp  {'12': 0.0805, '10': 0.0805, '22': 0.0805, '04...\n",
       "2      dpz2gg  {'12': 0.0909, '10': 0.0909, '22': 0, '04': 0,...\n",
       "3      dpz2jc  {'12': 0.0909, '10': 0.0909, '22': 0, '04': 0....\n",
       "4      dpz2jd  {'12': 0.4838, '10': 0.4159, '22': 0.2679, '04...\n",
       "5      dpz2je  {'12': 1.3873, '10': 1.0798999999999999, '22':...\n",
       "6      dpz2jf  {'12': 0.1111, '10': 0.2778, '22': 0, '04': 0,...\n",
       "7      dpz2jg  {'12': 0.5832999999999999, '10': 0.3333, '22':...\n",
       "8      dpz2jk  {'12': 0, '10': 0.1429, '22': 0, '04': 0, '08'...\n",
       "9      dpz2jn  {'12': 0.1381, '10': 0.3881, '22': 0.0667, '04...\n",
       "10     dpz2jp  {'12': 0, '10': 0.1667, '22': 0, '04': 0, '08'...\n",
       "11     dpz2js  {'12': 1.0315999999999999, '10': 0.97699999999...\n",
       "12     dpz2jt  {'12': 0.0675, '10': 0.4901, '22': 0.0578, '04...\n",
       "13     dpz2ju  {'12': 1.0529000000000002, '10': 0.89579999999...\n",
       "14     dpz2jv  {'12': 0.1429, '10': 0.2, '22': 0, '04': 0, '0...\n",
       "15     dpz2jw  {'12': 0.42419999999999997, '10': 0.0909, '22'...\n",
       "16     dpz2jx  {'12': 0.5096, '10': 0.3096, '22': 0, '04': 0,...\n",
       "17     dpz2jy  {'12': 0.6087999999999999, '10': 0.53189999999...\n",
       "18     dpz2jz  {'12': 0.125, '10': 0.125, '22': 0, '04': 0, '...\n",
       "19     dpz2k9  {'12': 0.0833, '10': 0.0833, '22': 0, '04': 0,...\n",
       "20     dpz2kd  {'12': 0.39780000000000004, '10': 0.3978000000...\n",
       "21     dpz2ky  {'12': 0.2, '10': 0.2, '22': 0, '04': 0, '08':...\n",
       "22     dpz2kz  {'12': 0.5408999999999999, '10': 0.6878, '22':...\n",
       "23     dpz2m0  {'12': 0.0769, '10': 0.7269, '22': 0, '04': 0,...\n",
       "24     dpz2m2  {'12': 0, '10': 0.3667, '22': 0, '04': 0, '08'...\n",
       "25     dpz2m3  {'12': 0.4386, '10': 0.6386000000000001, '22':...\n",
       "26     dpz2m4  {'12': 0, '10': 0.1429, '22': 0, '04': 0, '08'...\n",
       "27     dpz2m6  {'12': 0.42069999999999996, '10': 0.1429, '22'...\n",
       "28     dpz2m7  {'12': 0.48339999999999994, '10': 0.1667000000...\n",
       "29     dpz2m8  {'12': 0, '10': 0, '22': 0, '04': 0, '08': 0.1...\n",
       "..        ...                                                ...\n",
       "768    dpz9jw  {'12': 0, '10': 0, '22': 0, '04': 0, '08': 0.3...\n",
       "769    dpz9jy  {'12': 0.0587, '10': 0.066, '22': 0.0587, '04'...\n",
       "770    dpz9jz  {'12': 0, '10': 0.2, '22': 0, '04': 0, '08': 0...\n",
       "771    dpz9k1  {'12': 0.2576, '10': 0.0909, '22': 0, '04': 0,...\n",
       "772    dpz9k3  {'12': 0, '10': 0, '22': 0, '04': 0, '08': 0.2...\n",
       "773    dpz9k4  {'12': 0.1875, '10': 0.25, '22': 0, '04': 0, '...\n",
       "774    dpz9k5  {'12': 0.5, '10': 0, '22': 0, '04': 0, '08': 0...\n",
       "775    dpz9k6  {'12': 0, '10': 0.41669999999999996, '22': 0.1...\n",
       "776    dpz9k7  {'12': 0.2, '10': 0, '22': 0, '04': 0, '08': 0...\n",
       "777    dpz9k8  {'12': 0.2, '10': 0.4, '22': 0, '04': 0, '08':...\n",
       "778    dpz9k9  {'12': 1.1484999999999999, '10': 0.80559999999...\n",
       "779    dpz9kb  {'12': 0.2, '10': 0.6167, '22': 0, '04': 0, '0...\n",
       "780    dpz9kc  {'12': 0.3096, '10': 0.3929, '22': 0, '04': 0,...\n",
       "781    dpz9kd  {'12': 0.6222, '10': 0.4778, '22': 0.1667, '04...\n",
       "782    dpz9ke  {'12': 0.4881, '10': 0.2381, '22': 0.0952, '04...\n",
       "783    dpz9kf  {'12': 0.41669999999999996, '10': 0, '22': 0, ...\n",
       "784    dpz9ks  {'12': 0.1667, '10': 0.1667, '22': 0, '04': 0,...\n",
       "785    dpz9m0  {'12': 0, '10': 0.4583, '22': 0, '04': 0, '08'...\n",
       "786    dpz9m8  {'12': 0, '10': 0.2, '22': 0, '04': 0, '08': 0...\n",
       "787    dpz9n0  {'12': 0.1, '10': 0.5, '22': 0, '04': 0, '08':...\n",
       "788    dpz9n3  {'12': 0.0769, '10': 0, '22': 0, '04': 0, '08'...\n",
       "789    dpz9n4  {'12': 0.25, '10': 0, '22': 0, '04': 0, '08': ...\n",
       "790    dpz9n5  {'12': 0.3333, '10': 0, '22': 0, '04': 0, '08'...\n",
       "791    dpz9n6  {'12': 0, '10': 0, '22': 0, '04': 0, '08': 0.3...\n",
       "792    dpz9nc  {'12': 0, '10': 0.1429, '22': 0, '04': 0, '08'...\n",
       "793    dpz9nv  {'12': 0.637, '10': 0.2679, '22': 0, '04': 0, ...\n",
       "794    dpz9p1  {'12': 0.2667, '10': 0.2667, '22': 0, '04': 0,...\n",
       "795    dpz9p4  {'12': 0.2, '10': 0, '22': 0, '04': 0, '08': 0...\n",
       "796    dpz9p5  {'12': 0.5095999999999999, '10': 0.3429, '22':...\n",
       "797    dpz9pj  {'12': 0, '10': 0.5179, '22': 0, '04': 0, '08'...\n",
       "\n",
       "[798 rows x 2 columns]"
      ]
     },
     "execution_count": 103,
     "metadata": {},
     "output_type": "execute_result"
    }
   ],
   "source": [
    "hourly_agg"
   ]
  },
  {
   "cell_type": "markdown",
   "metadata": {},
   "source": [
    "# Simple Clustering"
   ]
  },
  {
   "cell_type": "code",
   "execution_count": 109,
   "metadata": {},
   "outputs": [],
   "source": [
    "df = pd.read_csv('../data/clusterAnalysisDat.csv')"
   ]
  },
  {
   "cell_type": "code",
   "execution_count": 110,
   "metadata": {
    "scrolled": true
   },
   "outputs": [],
   "source": [
    "df_cluster = df.drop(['Unnamed: 0', 'parkGeoHash', 'spendGeoHash', 'spendDistrict', 'parkDistrict'], axis=1)"
   ]
  },
  {
   "cell_type": "code",
   "execution_count": 111,
   "metadata": {
    "scrolled": true
   },
   "outputs": [
    {
     "data": {
      "text/plain": [
       "Index(['pctTimeSpend', 'parkGeoHash_AvgTimeToPark',\n",
       "       'parkGeoHash_PercentSearching', 'spendGeoHash_AvgTimeToPark',\n",
       "       'spendGeoHash_PercentSearching', 'distance', 'spend_lat', 'spend_lng',\n",
       "       'park_lat', 'park_lng', 'spendFoodC', 'spendShopC', 'parkFoodC',\n",
       "       'parkShopC', 'parkAvgTimeToParkRatio', 'parkTotalSearching',\n",
       "       'parkAvgUniqueGeohashes', 'parkAvgTotalGeohashes', 'parkPercentCar',\n",
       "       'parkPercentMPV', 'parkPercentLDT', 'parkPercentMDT', 'parkPercentHDT',\n",
       "       'parkPercentOther', 'spendAvgTimeToParkRatio', 'spendTotalSearching',\n",
       "       'spendAvgUniqueGeohashes', 'spendAvgTotalGeohashes', 'spendPercentCar',\n",
       "       'spendPercentMPV', 'spendPercentLDT', 'spendPercentMDT',\n",
       "       'spendPercentHDT', 'spendPercentOther'],\n",
       "      dtype='object')"
      ]
     },
     "execution_count": 111,
     "metadata": {},
     "output_type": "execute_result"
    }
   ],
   "source": [
    "df_cluster.columns"
   ]
  },
  {
   "cell_type": "code",
   "execution_count": 112,
   "metadata": {},
   "outputs": [],
   "source": [
    "import sklearn.cluster as cluster\n",
    "from sklearn.decomposition import PCA\n",
    "from mpl_toolkits.mplot3d import Axes3D"
   ]
  },
  {
   "cell_type": "code",
   "execution_count": 33,
   "metadata": {
    "scrolled": true
   },
   "outputs": [
    {
     "data": {
      "text/plain": [
       "(array([[ 1.14371946e-01,  5.59092155e+00,  9.91589881e-02,\n",
       "          5.57986170e+00,  9.92338132e-02,  3.80300000e+03,\n",
       "          4.36869272e+01, -7.94046072e+01,  4.36869395e+01,\n",
       "         -7.94045866e+01,  1.15594406e+01,  1.22381736e+01,\n",
       "          1.15232415e+01,  1.21801728e+01,  1.60360950e+00,\n",
       "          1.66709173e+01,  5.01467984e+00,  8.21346117e+00,\n",
       "          5.87259975e-02,  3.07625010e-01,  3.35388482e-01,\n",
       "          4.84648704e-02,  1.00975936e-01,  1.48817812e-01,\n",
       "          1.60456709e+00,  1.66779103e+01,  4.99942760e+00,\n",
       "          8.19494044e+00,  5.85366516e-02,  3.09129782e-01,\n",
       "          3.34854628e-01,  4.78051831e-02,  1.01645372e-01,\n",
       "          1.48027273e-01],\n",
       "        [ 1.18198276e-01,  5.03601724e+00,  1.05674138e-01,\n",
       "          5.07825862e+00,  1.02498276e-01,  1.23264000e+05,\n",
       "          4.37489655e+01, -7.94017241e+01,  4.37491379e+01,\n",
       "         -7.94018966e+01,  5.82758621e+00,  1.02241379e+01,\n",
       "          5.55172414e+00,  9.94827586e+00,  1.63167759e+00,\n",
       "          1.29827586e+01,  5.06969310e+00,  8.34086034e+00,\n",
       "          6.32517241e-02,  3.61070690e-01,  2.88825862e-01,\n",
       "          3.60655172e-02,  8.65344828e-02,  1.64253448e-01,\n",
       "          1.68276207e+00,  1.32241379e+01,  5.01074655e+00,\n",
       "          8.29550172e+00,  6.11827586e-02,  3.56987931e-01,\n",
       "          2.99494828e-01,  3.26172414e-02,  8.27448276e-02,\n",
       "          1.66972414e-01],\n",
       "        [ 1.28900000e-01,  3.26855000e+00,  3.07500000e-01,\n",
       "          3.26855000e+00,  3.07500000e-01,  6.25441000e+05,\n",
       "          4.35900000e+01, -7.95400000e+01,  4.35900000e+01,\n",
       "         -7.95400000e+01,  2.50000000e+00,  2.50000000e+00,\n",
       "          2.50000000e+00,  2.50000000e+00,  1.23685000e+00,\n",
       "          5.20000000e+01,  4.73810000e+00,  8.17645000e+00,\n",
       "          2.32650000e-01,  1.50300000e-01,  4.67300000e-01,\n",
       "          5.42000000e-02,  5.36000000e-02,  4.18500000e-02,\n",
       "          1.23685000e+00,  5.20000000e+01,  4.73810000e+00,\n",
       "          8.17645000e+00,  2.32650000e-01,  1.50300000e-01,\n",
       "          4.67300000e-01,  5.42000000e-02,  5.36000000e-02,\n",
       "          4.18500000e-02],\n",
       "        [ 1.21116339e-01,  5.56823281e+00,  9.96039042e-02,\n",
       "          5.56957995e+00,  9.89840411e-02,  6.10000000e+02,\n",
       "          4.36867613e+01, -7.94036925e+01,  4.36867677e+01,\n",
       "         -7.94036899e+01,  1.03479528e+01,  1.13743187e+01,\n",
       "          1.03234884e+01,  1.13367981e+01,  1.60535430e+00,\n",
       "          1.69411839e+01,  5.01037385e+00,  8.20957011e+00,\n",
       "          5.87732666e-02,  3.07332438e-01,  3.25392978e-01,\n",
       "          4.96209786e-02,  1.06202294e-01,  1.52677082e-01,\n",
       "          1.60890857e+00,  1.68439599e+01,  4.99903597e+00,\n",
       "          8.19752940e+00,  5.91449106e-02,  3.07114425e-01,\n",
       "          3.25548511e-01,  4.98746609e-02,  1.05778971e-01,\n",
       "          1.52537584e-01],\n",
       "        [ 1.15733333e-01,  5.38944804e+00,  1.07084967e-01,\n",
       "          5.41918824e+00,  1.02116013e-01,  1.95450000e+04,\n",
       "          4.36879412e+01, -7.94058170e+01,  4.36879412e+01,\n",
       "         -7.94057516e+01,  6.79411765e+00,  8.84313725e+00,\n",
       "          6.71895425e+00,  8.74183007e+00,  1.57546536e+00,\n",
       "          1.61568627e+01,  5.04734869e+00,  8.27568497e+00,\n",
       "          7.03931373e-02,  3.07550980e-01,  3.21583007e-01,\n",
       "          4.07725490e-02,  8.03833333e-02,  1.79321242e-01,\n",
       "          1.59427451e+00,  1.60392157e+01,  5.03494608e+00,\n",
       "          8.26107876e+00,  7.06705882e-02,  3.09875817e-01,\n",
       "          3.23636275e-01,  3.99271242e-02,  7.76908497e-02,\n",
       "          1.78201634e-01],\n",
       "        [ 2.11329134e-01,  5.25123672e+00,  1.11160359e-01,\n",
       "          5.25123672e+00,  1.11160359e-01,  1.18000000e+02,\n",
       "          4.37012919e+01, -7.94085768e+01,  4.37012919e+01,\n",
       "         -7.94085768e+01,  6.18734924e+00,  8.00804074e+00,\n",
       "          6.18734924e+00,  8.00804074e+00,  1.63107791e+00,\n",
       "          1.41002412e+01,  4.97236601e+00,  8.12854873e+00,\n",
       "          5.43368802e-02,  3.00761270e-01,  3.31912410e-01,\n",
       "          4.51506031e-02,  1.16867462e-01,  1.50972259e-01,\n",
       "          1.63107791e+00,  1.41002412e+01,  4.97236601e+00,\n",
       "          8.12854873e+00,  5.43368802e-02,  3.00761270e-01,\n",
       "          3.31912410e-01,  4.51506031e-02,  1.16867462e-01,\n",
       "          1.50972259e-01]]),\n",
       " array([3, 3, 5, ..., 5, 5, 5], dtype=int32),\n",
       " 12133924.234132892)"
      ]
     },
     "execution_count": 33,
     "metadata": {},
     "output_type": "execute_result"
    }
   ],
   "source": [
    "cluster.k_means(df_cluster, 6)"
   ]
  },
  {
   "cell_type": "code",
   "execution_count": 113,
   "metadata": {
    "scrolled": false
   },
   "outputs": [
    {
     "name": "stdout",
     "output_type": "stream",
     "text": [
      "Variance: 1.0\n"
     ]
    },
    {
     "data": {
      "image/png": "[encoded data removed]",
      "text/plain": [
       "<Figure size 432x288 with 1 Axes>"
      ]
     },
     "metadata": {},
     "output_type": "display_data"
    }
   ],
   "source": [
    "n_component=3\n",
    "pca = PCA(n_components=n_component)\n",
    "reduced_data = pca.fit_transform(df_cluster)\n",
    "\n",
    "\n",
    "kmeans = cluster.KMeans(init='k-means++', n_clusters=6)\n",
    "kmeans.fit(reduced_data)\n",
    "\n",
    "\n",
    "fig = plt.figure()\n",
    "ax = fig.add_subplot(111, projection='3d')\n",
    "\n",
    "labels = kmeans.labels_\n",
    "kmeans.cluster_centers_\n",
    "kmeans.inertia_\n",
    "centroids= kmeans.cluster_centers_\n",
    "reduced_center = pca.fit_transform(centroids)\n",
    "\n",
    "\n",
    "colors=['olivedrab', \"darkturquoise\", \"plum\", \"darkorange\", \"lightslategray\", \"indigo\"]\n",
    "col_map=dict(zip(set(labels),colors))\n",
    "label_color = [col_map[l] for l in labels]\n",
    "\n",
    "print('Variance: {}'.format(sum(pca.explained_variance_ratio_)))\n",
    "plt.scatter(reduced_data[:,0], reduced_data[:,1], reduced_data[:2], c=label_color)\n",
    "plt.show()"
   ]
  },
  {
   "cell_type": "code",
   "execution_count": null,
   "metadata": {},
   "outputs": [],
   "source": []
  },
  {
   "cell_type": "code",
   "execution_count": 92,
   "metadata": {
    "scrolled": false
   },
   "outputs": [
    {
     "ename": "MemoryError",
     "evalue": "",
     "output_type": "error",
     "traceback": [
      "\u001b[0;31m---------------------------------------------------------------------------\u001b[0m",
      "\u001b[0;31mMemoryError\u001b[0m                               Traceback (most recent call last)",
      "\u001b[0;32m<ipython-input-92-a759d7a25245>\u001b[0m in \u001b[0;36m<module>\u001b[0;34m\u001b[0m\n\u001b[1;32m      5\u001b[0m \u001b[0;34m\u001b[0m\u001b[0m\n\u001b[1;32m      6\u001b[0m \u001b[0maff\u001b[0m \u001b[0;34m=\u001b[0m \u001b[0mcluster\u001b[0m\u001b[0;34m.\u001b[0m\u001b[0mAffinityPropagation\u001b[0m\u001b[0;34m(\u001b[0m\u001b[0mmax_iter\u001b[0m\u001b[0;34m=\u001b[0m\u001b[0;36m10\u001b[0m\u001b[0;34m)\u001b[0m\u001b[0;34m\u001b[0m\u001b[0m\n\u001b[0;32m----> 7\u001b[0;31m \u001b[0maff\u001b[0m\u001b[0;34m.\u001b[0m\u001b[0mfit\u001b[0m\u001b[0;34m(\u001b[0m\u001b[0mreduced_data\u001b[0m\u001b[0;34m)\u001b[0m\u001b[0;34m\u001b[0m\u001b[0m\n\u001b[0m\u001b[1;32m      8\u001b[0m \u001b[0;34m\u001b[0m\u001b[0m\n\u001b[1;32m      9\u001b[0m \u001b[0;34m\u001b[0m\u001b[0m\n",
      "\u001b[0;32m~/.local/lib/python3.5/site-packages/sklearn/cluster/affinity_propagation_.py\u001b[0m in \u001b[0;36mfit\u001b[0;34m(self, X, y)\u001b[0m\n\u001b[1;32m    369\u001b[0m             \u001b[0mself\u001b[0m\u001b[0;34m.\u001b[0m\u001b[0maffinity_matrix_\u001b[0m \u001b[0;34m=\u001b[0m \u001b[0mX\u001b[0m\u001b[0;34m\u001b[0m\u001b[0m\n\u001b[1;32m    370\u001b[0m         \u001b[0;32melif\u001b[0m \u001b[0mself\u001b[0m\u001b[0;34m.\u001b[0m\u001b[0maffinity\u001b[0m \u001b[0;34m==\u001b[0m \u001b[0;34m\"euclidean\"\u001b[0m\u001b[0;34m:\u001b[0m\u001b[0;34m\u001b[0m\u001b[0m\n\u001b[0;32m--> 371\u001b[0;31m             \u001b[0mself\u001b[0m\u001b[0;34m.\u001b[0m\u001b[0maffinity_matrix_\u001b[0m \u001b[0;34m=\u001b[0m \u001b[0;34m-\u001b[0m\u001b[0meuclidean_distances\u001b[0m\u001b[0;34m(\u001b[0m\u001b[0mX\u001b[0m\u001b[0;34m,\u001b[0m \u001b[0msquared\u001b[0m\u001b[0;34m=\u001b[0m\u001b[0;32mTrue\u001b[0m\u001b[0;34m)\u001b[0m\u001b[0;34m\u001b[0m\u001b[0m\n\u001b[0m\u001b[1;32m    372\u001b[0m         \u001b[0;32melse\u001b[0m\u001b[0;34m:\u001b[0m\u001b[0;34m\u001b[0m\u001b[0m\n\u001b[1;32m    373\u001b[0m             raise ValueError(\"Affinity must be 'precomputed' or \"\n",
      "\u001b[0;32m~/.local/lib/python3.5/site-packages/sklearn/metrics/pairwise.py\u001b[0m in \u001b[0;36meuclidean_distances\u001b[0;34m(X, Y, Y_norm_squared, squared, X_norm_squared)\u001b[0m\n\u001b[1;32m    245\u001b[0m         \u001b[0mYY\u001b[0m \u001b[0;34m=\u001b[0m \u001b[0mrow_norms\u001b[0m\u001b[0;34m(\u001b[0m\u001b[0mY\u001b[0m\u001b[0;34m,\u001b[0m \u001b[0msquared\u001b[0m\u001b[0;34m=\u001b[0m\u001b[0;32mTrue\u001b[0m\u001b[0;34m)\u001b[0m\u001b[0;34m[\u001b[0m\u001b[0mnp\u001b[0m\u001b[0;34m.\u001b[0m\u001b[0mnewaxis\u001b[0m\u001b[0;34m,\u001b[0m \u001b[0;34m:\u001b[0m\u001b[0;34m]\u001b[0m\u001b[0;34m\u001b[0m\u001b[0m\n\u001b[1;32m    246\u001b[0m \u001b[0;34m\u001b[0m\u001b[0m\n\u001b[0;32m--> 247\u001b[0;31m     \u001b[0mdistances\u001b[0m \u001b[0;34m=\u001b[0m \u001b[0msafe_sparse_dot\u001b[0m\u001b[0;34m(\u001b[0m\u001b[0mX\u001b[0m\u001b[0;34m,\u001b[0m \u001b[0mY\u001b[0m\u001b[0;34m.\u001b[0m\u001b[0mT\u001b[0m\u001b[0;34m,\u001b[0m \u001b[0mdense_output\u001b[0m\u001b[0;34m=\u001b[0m\u001b[0;32mTrue\u001b[0m\u001b[0;34m)\u001b[0m\u001b[0;34m\u001b[0m\u001b[0m\n\u001b[0m\u001b[1;32m    248\u001b[0m     \u001b[0mdistances\u001b[0m \u001b[0;34m*=\u001b[0m \u001b[0;34m-\u001b[0m\u001b[0;36m2\u001b[0m\u001b[0;34m\u001b[0m\u001b[0m\n\u001b[1;32m    249\u001b[0m     \u001b[0mdistances\u001b[0m \u001b[0;34m+=\u001b[0m \u001b[0mXX\u001b[0m\u001b[0;34m\u001b[0m\u001b[0m\n",
      "\u001b[0;32m~/.local/lib/python3.5/site-packages/sklearn/utils/extmath.py\u001b[0m in \u001b[0;36msafe_sparse_dot\u001b[0;34m(a, b, dense_output)\u001b[0m\n\u001b[1;32m    171\u001b[0m         \u001b[0;32mreturn\u001b[0m \u001b[0mret\u001b[0m\u001b[0;34m\u001b[0m\u001b[0m\n\u001b[1;32m    172\u001b[0m     \u001b[0;32melse\u001b[0m\u001b[0;34m:\u001b[0m\u001b[0;34m\u001b[0m\u001b[0m\n\u001b[0;32m--> 173\u001b[0;31m         \u001b[0;32mreturn\u001b[0m \u001b[0mnp\u001b[0m\u001b[0;34m.\u001b[0m\u001b[0mdot\u001b[0m\u001b[0;34m(\u001b[0m\u001b[0ma\u001b[0m\u001b[0;34m,\u001b[0m \u001b[0mb\u001b[0m\u001b[0;34m)\u001b[0m\u001b[0;34m\u001b[0m\u001b[0m\n\u001b[0m\u001b[1;32m    174\u001b[0m \u001b[0;34m\u001b[0m\u001b[0m\n\u001b[1;32m    175\u001b[0m \u001b[0;34m\u001b[0m\u001b[0m\n",
      "\u001b[0;31mMemoryError\u001b[0m: "
     ]
    }
   ],
   "source": [
    "n_component=3\n",
    "pca = PCA(n_components=n_component)\n",
    "reduced_data = pca.fit_transform(df_cluster)\n",
    "\n",
    "\n",
    "aff = cluster.AffinityPropagation(max_iter=10)\n",
    "aff.fit(reduced_data)\n",
    "\n",
    "\n",
    "fig = plt.figure()\n",
    "ax = fig.add_subplot(111, projection='3d')\n",
    "\n",
    "labels = aff.labels_\n",
    "aff.cluster_centers_\n",
    "aff.inertia_\n",
    "centroids= aff.cluster_centers_\n",
    "reduced_center = pca.fit_transform(centroids)\n",
    "\n",
    "\n",
    "colors=['olivedrab', \"darkturquoise\", \"plum\", \"darkorange\", \"lightslategray\", \"indigo\"]\n",
    "col_map=dict(zip(set(labels),colors))\n",
    "label_color = [col_map[l] for l in labels]\n",
    "\n",
    "print('Variance: {}'.format(sum(pca.explained_variance_ratio_)))\n",
    "plt.scatter(reduced_data[:,0], reduced_data[:,1], reduced_data[:2])\n",
    "plt.show()"
   ]
  },
  {
   "cell_type": "code",
   "execution_count": null,
   "metadata": {},
   "outputs": [],
   "source": []
  }
 ],
 "metadata": {
  "kernelspec": {
   "display_name": "Python 3",
   "language": "python",
   "name": "python3"
  },
  "language_info": {
   "codemirror_mode": {
    "name": "ipython",
    "version": 3
   },
   "file_extension": ".py",
   "mimetype": "text/x-python",
   "name": "python",
   "nbconvert_exporter": "python",
   "pygments_lexer": "ipython3",
   "version": "3.5.2"
  }
 },
 "nbformat": 4,
 "nbformat_minor": 2
}
